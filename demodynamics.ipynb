{
 "cells": [
  {
   "cell_type": "code",
   "execution_count": 1,
   "metadata": {
    "collapsed": true
   },
   "outputs": [],
   "source": [
    "import pandas as pd\n",
    "import rivalry as rv\n",
    "import matplotlib.pyplot as plt\n",
    "import numpy as np\n",
    "%matplotlib inline"
   ]
  },
  {
   "cell_type": "code",
   "execution_count": 3,
   "metadata": {
    "collapsed": true
   },
   "outputs": [],
   "source": [
    "#from initialparameters.txt\n",
    "p = {}\n",
    "p['beta']=1.42528\n",
    "p['alpha']=0\n",
    "p['gamma'] = 2.07703\n",
    "p['tau_a']=1248.0\n",
    "p['tau_u']=10\n",
    "p['sigma']=0.0419821\n",
    "p['mu']=0.9\n",
    "p['ks']=0.1918590\n",
    "p['kc']=0.00253604\n",
    "p['kb'] = 0.109369\n",
    "\n",
    "#S = [p[5] + p[6]*C;p[5] - p[6]*C;p[7]]"
   ]
  },
  {
   "cell_type": "code",
   "execution_count": 4,
   "metadata": {
    "collapsed": true
   },
   "outputs": [],
   "source": [
    "#ip = pd.Series(p)\n",
    "#ip.to_pickle('IP.pkl')\n",
    "#ip"
   ]
  },
  {
   "cell_type": "code",
   "execution_count": 2,
   "metadata": {
    "collapsed": true
   },
   "outputs": [],
   "source": [
    "p3 = pd.read_pickle('artifice.pkl')"
   ]
  },
  {
   "cell_type": "code",
   "execution_count": 3,
   "metadata": {},
   "outputs": [
    {
     "data": {
      "text/plain": [
       "alpha       0.000080\n",
       "beta        1.121462\n",
       "gamma       1.670622\n",
       "kb          0.124143\n",
       "kc          0.002489\n",
       "ks          0.195865\n",
       "mu          1.273642\n",
       "sigma       0.040128\n",
       "tau_a    1849.408587\n",
       "tau_u      10.048476\n",
       "Name: 157, dtype: float64"
      ]
     },
     "execution_count": 3,
     "metadata": {},
     "output_type": "execute_result"
    }
   ],
   "source": [
    "p3"
   ]
  },
  {
   "cell_type": "code",
   "execution_count": 4,
   "metadata": {
    "collapsed": true
   },
   "outputs": [],
   "source": [
    "tot=500000\n",
    "tpre=6000\n",
    "dt = 1"
   ]
  },
  {
   "cell_type": "code",
   "execution_count": 5,
   "metadata": {
    "collapsed": true
   },
   "outputs": [],
   "source": [
    "#unpack fixed parameters\n",
    "param = p3\n",
    "beta = param['beta']\n",
    "alpha = param['alpha']\n",
    "gamma = param['gamma']\n",
    "tau_a = param['tau_a']\n",
    "sigma = param['sigma']\n",
    "mu = param['mu']\n",
    "tau_u = param['tau_u']\n",
    "\n",
    "#input stimulus\n",
    "contrast = [0.0,1.0,2.0,3.0,4.0]\n",
    "r = contrast[4]\n",
    "ks = param['ks']\n",
    "kc = param['kc']\n",
    "kb = param['kb']\n",
    "k1 = rv.stimulus(ks,kc,r)\n",
    "k2 = rv.stimulus(ks,kc,-r)#weaker stimulus\n",
    "\n",
    "tf = tot\n",
    "equil = tpre\n",
    "totaltime= tf + equil\n",
    "\n",
    "#system variables\n",
    "U = np.random.uniform(0,1,(2,2))\n",
    "A = np.random.uniform(0,1,(2,1))\n",
    "Z = np.random.uniform(0,1,(2,1))\n",
    "\n",
    "u1 = []\n",
    "u2 = []\n",
    "a1 = []\n",
    "a2 = []\n",
    "z1 = []\n",
    "z2 = []\n",
    "t = []\n",
    "i=-1"
   ]
  },
  {
   "cell_type": "code",
   "execution_count": 6,
   "metadata": {},
   "outputs": [
    {
     "name": "stdout",
     "output_type": "stream",
     "text": [
      "[[ 0.3446938   0.11049078]\n",
      " [ 0.04685019  0.40838521]]\n",
      "[[ 0.66743508]\n",
      " [ 0.92641521]]\n",
      "[[ 0.971709 ]\n",
      " [ 0.4609157]]\n"
     ]
    }
   ],
   "source": [
    "print U\n",
    "print A\n",
    "print Z"
   ]
  },
  {
   "cell_type": "code",
   "execution_count": 7,
   "metadata": {
    "collapsed": true
   },
   "outputs": [],
   "source": [
    "while i < totaltime:\n",
    "    i += 1\n",
    "    t.append(i*dt)\n",
    "    stim_on = int(equil<i)\n",
    "    S1 = k1*stim_on\n",
    "    S2 = k2*stim_on\n",
    "    Z[0,0] = Z[0,0] -dt*(Z[0,0] + np.sqrt(dt)*sigma*np.random.randn())\n",
    "    Z[1,0] = Z[1,0] -dt*(Z[1,0] + np.sqrt(dt)*sigma*np.random.randn())\n",
    "    \n",
    "    U[0,1] = U[0,0]+dt*(-U[0,0]+rv.gain_pl_sqrt(kb+S1 - beta*A[1,0]*U[1,0] +alpha*U[0,0] + Z[0,0]*(1+mu*U[0,0])))/tau_u\n",
    "    U[1,1] = U[1,0]+dt*(-U[1,0]+rv.gain_pl_sqrt(kb+S2 - beta*A[0,0]*U[0,0] +alpha*U[0,1] + Z[1,0]*(1+mu*U[1,0])))/tau_u\n",
    "    U[0,0] = U[0,1]\n",
    "    U[1,0] = U[1,1]\n",
    "\n",
    "    A[0,0] = A[0,0] + dt*(1 - A[0,0] - gamma*A[0,0]*U[0,0])/tau_a\n",
    "    A[1,0] = A[1,0] + dt*(1 - A[1,0] - gamma*A[1,0]*U[1,0])/tau_a\n",
    "\n",
    "    u1.append(U[0,0])\n",
    "    u2.append(U[1,0])\n",
    "    a1.append(A[0,0])\n",
    "    a2.append(A[1,0])\n",
    "    z1.append(Z[0,0])\n",
    "    z2.append(Z[1,0])"
   ]
  },
  {
   "cell_type": "code",
   "execution_count": 8,
   "metadata": {},
   "outputs": [
    {
     "data": {
      "image/png": "[encoded data removed]",
      "text/plain": [
       "<matplotlib.figure.Figure at 0x1170b0150>"
      ]
     },
     "metadata": {},
     "output_type": "display_data"
    }
   ],
   "source": [
    "xmax=50000\n",
    "fig, axs = plt.subplots(3,1)\n",
    "axs[0].plot(t,u1,t,u2)\n",
    "axs[0].set_xlim(0,xmax)\n",
    "axs[1].plot(t,a1,t,a2)\n",
    "axs[1].set_xlim(0,xmax)\n",
    "axs[2].plot(t,z1,t,z2)\n",
    "axs[2].set_xlim(0,xmax)\n",
    "fig.tight_layout()"
   ]
  },
  {
   "cell_type": "code",
   "execution_count": 9,
   "metadata": {
    "collapsed": true
   },
   "outputs": [],
   "source": [
    "DOM1 = []\n",
    "DOM2 = []\n",
    "LEADER = []"
   ]
  },
  {
   "cell_type": "code",
   "execution_count": 10,
   "metadata": {
    "collapsed": true
   },
   "outputs": [],
   "source": [
    "td1 = rv.dominance(t,u1,u2,equil)\n",
    "td2 = rv.dominance(t,u2,u1,equil)\n",
    "\n",
    "DOM1.extend(td1)\n",
    "DOM2.extend(td2)\n",
    "\n",
    "TD1 = np.array(DOM1)\n",
    "TD2 = np.array(DOM2)"
   ]
  },
  {
   "cell_type": "code",
   "execution_count": null,
   "metadata": {
    "collapsed": true
   },
   "outputs": [],
   "source": []
  },
  {
   "cell_type": "code",
   "execution_count": 11,
   "metadata": {
    "collapsed": true
   },
   "outputs": [],
   "source": [
    "FINAL_DATA = {}\n",
    "#FINAL_DATA['FIRST_EPOCH_PROB'] = rv.prob_seq(LEADER,1)\n",
    "FINAL_DATA['MEAN_U1'] = np.mean(TD1)\n",
    "FINAL_DATA['MEAN_U2'] = np.mean(TD2)\n",
    "FINAL_DATA['SD_U1'] = np.std(TD1)\n",
    "FINAL_DATA['SD_U2'] = np.std(TD2)\n",
    "FINAL_DATA['CV_U1'] = FINAL_DATA['SD_U1']/FINAL_DATA['MEAN_U1']\n",
    "FINAL_DATA['CV_U2'] = FINAL_DATA['SD_U2']/FINAL_DATA['MEAN_U2']"
   ]
  },
  {
   "cell_type": "code",
   "execution_count": 12,
   "metadata": {},
   "outputs": [
    {
     "data": {
      "text/plain": [
       "{'CV_U1': 0.50649537098620301,\n",
       " 'CV_U2': 0.50685609462435965,\n",
       " 'MEAN_U1': 1610.8644067796611,\n",
       " 'MEAN_U2': 1163.8539325842696,\n",
       " 'SD_U1': 815.89536532033424,\n",
       " 'SD_U2': 589.90645898286562}"
      ]
     },
     "execution_count": 12,
     "metadata": {},
     "output_type": "execute_result"
    }
   ],
   "source": [
    "FINAL_DATA"
   ]
  },
  {
   "cell_type": "code",
   "execution_count": 14,
   "metadata": {
    "collapsed": true
   },
   "outputs": [],
   "source": [
    "import model as model"
   ]
  },
  {
   "cell_type": "code",
   "execution_count": 35,
   "metadata": {},
   "outputs": [
    {
     "name": "stdout",
     "output_type": "stream",
     "text": [
      "rivalry:warning: dom found < 3\n",
      "rivalry:warning: dom found < 3\n"
     ]
    }
   ],
   "source": [
    "#pmi = model.run(p,1,500)"
   ]
  },
  {
   "cell_type": "code",
   "execution_count": 15,
   "metadata": {},
   "outputs": [],
   "source": [
    "pm3 = model.run(p3,1,200)"
   ]
  },
  {
   "cell_type": "code",
   "execution_count": 15,
   "metadata": {
    "collapsed": true
   },
   "outputs": [],
   "source": [
    "#pmi['CV_U1']=pmi['SD_U1']/pmi['MEAN_U1']\n",
    "#pmi['CV_U2']=pmi['SD_U2']/pmi['MEAN_U2']\n",
    "#pmi"
   ]
  },
  {
   "cell_type": "code",
   "execution_count": 16,
   "metadata": {},
   "outputs": [
    {
     "data": {
      "text/html": [
       "<div>\n",
       "<style>\n",
       "    .dataframe thead tr:only-child th {\n",
       "        text-align: right;\n",
       "    }\n",
       "\n",
       "    .dataframe thead th {\n",
       "        text-align: left;\n",
       "    }\n",
       "\n",
       "    .dataframe tbody tr th {\n",
       "        vertical-align: top;\n",
       "    }\n",
       "</style>\n",
       "<table border=\"1\" class=\"dataframe\">\n",
       "  <thead>\n",
       "    <tr style=\"text-align: right;\">\n",
       "      <th></th>\n",
       "      <th>COUNTS_U1</th>\n",
       "      <th>COUNTS_U2</th>\n",
       "      <th>FIRST_EPOCH_PROB_U1</th>\n",
       "      <th>FIRST_EPOCH_PROB_U2</th>\n",
       "      <th>MEAN_U1</th>\n",
       "      <th>MEAN_U2</th>\n",
       "      <th>SD_U1</th>\n",
       "      <th>SD_U2</th>\n",
       "      <th>CV_U1</th>\n",
       "      <th>CV_U2</th>\n",
       "    </tr>\n",
       "  </thead>\n",
       "  <tbody>\n",
       "    <tr>\n",
       "      <th>0</th>\n",
       "      <td>104.0</td>\n",
       "      <td>96.0</td>\n",
       "      <td>0.520</td>\n",
       "      <td>0.480</td>\n",
       "      <td>1518.819876</td>\n",
       "      <td>1521.783951</td>\n",
       "      <td>500.865014</td>\n",
       "      <td>496.298692</td>\n",
       "      <td>0.329772</td>\n",
       "      <td>0.326130</td>\n",
       "    </tr>\n",
       "    <tr>\n",
       "      <th>20</th>\n",
       "      <td>111.0</td>\n",
       "      <td>89.0</td>\n",
       "      <td>0.555</td>\n",
       "      <td>0.445</td>\n",
       "      <td>1573.920245</td>\n",
       "      <td>1457.160494</td>\n",
       "      <td>549.956284</td>\n",
       "      <td>509.842991</td>\n",
       "      <td>0.349418</td>\n",
       "      <td>0.349888</td>\n",
       "    </tr>\n",
       "    <tr>\n",
       "      <th>40</th>\n",
       "      <td>149.0</td>\n",
       "      <td>51.0</td>\n",
       "      <td>0.745</td>\n",
       "      <td>0.255</td>\n",
       "      <td>1568.994083</td>\n",
       "      <td>1343.035503</td>\n",
       "      <td>652.294788</td>\n",
       "      <td>553.885179</td>\n",
       "      <td>0.415741</td>\n",
       "      <td>0.412413</td>\n",
       "    </tr>\n",
       "    <tr>\n",
       "      <th>60</th>\n",
       "      <td>159.0</td>\n",
       "      <td>41.0</td>\n",
       "      <td>0.795</td>\n",
       "      <td>0.205</td>\n",
       "      <td>1732.433962</td>\n",
       "      <td>1356.905660</td>\n",
       "      <td>615.584577</td>\n",
       "      <td>476.883499</td>\n",
       "      <td>0.355329</td>\n",
       "      <td>0.351449</td>\n",
       "    </tr>\n",
       "    <tr>\n",
       "      <th>80</th>\n",
       "      <td>179.0</td>\n",
       "      <td>21.0</td>\n",
       "      <td>0.895</td>\n",
       "      <td>0.105</td>\n",
       "      <td>1762.031056</td>\n",
       "      <td>1285.327160</td>\n",
       "      <td>683.878921</td>\n",
       "      <td>490.753689</td>\n",
       "      <td>0.388120</td>\n",
       "      <td>0.381812</td>\n",
       "    </tr>\n",
       "  </tbody>\n",
       "</table>\n",
       "</div>"
      ],
      "text/plain": [
       "    COUNTS_U1  COUNTS_U2  FIRST_EPOCH_PROB_U1  FIRST_EPOCH_PROB_U2  \\\n",
       "0       104.0       96.0                0.520                0.480   \n",
       "20      111.0       89.0                0.555                0.445   \n",
       "40      149.0       51.0                0.745                0.255   \n",
       "60      159.0       41.0                0.795                0.205   \n",
       "80      179.0       21.0                0.895                0.105   \n",
       "\n",
       "        MEAN_U1      MEAN_U2       SD_U1       SD_U2     CV_U1     CV_U2  \n",
       "0   1518.819876  1521.783951  500.865014  496.298692  0.329772  0.326130  \n",
       "20  1573.920245  1457.160494  549.956284  509.842991  0.349418  0.349888  \n",
       "40  1568.994083  1343.035503  652.294788  553.885179  0.415741  0.412413  \n",
       "60  1732.433962  1356.905660  615.584577  476.883499  0.355329  0.351449  \n",
       "80  1762.031056  1285.327160  683.878921  490.753689  0.388120  0.381812  "
      ]
     },
     "execution_count": 16,
     "metadata": {},
     "output_type": "execute_result"
    }
   ],
   "source": [
    "pm3['CV_U1']=pm3['SD_U1']/pm3['MEAN_U1']\n",
    "pm3['CV_U2']=pm3['SD_U2']/pm3['MEAN_U2']\n",
    "pm3"
   ]
  },
  {
   "cell_type": "code",
   "execution_count": 17,
   "metadata": {},
   "outputs": [
    {
     "data": {
      "text/plain": [
       "alpha       0.000080\n",
       "beta        1.121462\n",
       "gamma       1.670622\n",
       "kb          0.124143\n",
       "kc          0.002489\n",
       "ks          0.195865\n",
       "mu          1.273642\n",
       "sigma       0.040128\n",
       "tau_a    1849.408587\n",
       "tau_u      10.048476\n",
       "Name: 157, dtype: float64"
      ]
     },
     "execution_count": 17,
     "metadata": {},
     "output_type": "execute_result"
    }
   ],
   "source": [
    "p3"
   ]
  },
  {
   "cell_type": "code",
   "execution_count": 22,
   "metadata": {},
   "outputs": [
    {
     "data": {
      "text/plain": [
       "25408.36"
      ]
     },
     "execution_count": 22,
     "metadata": {},
     "output_type": "execute_result"
    }
   ],
   "source": [
    "(797*0.2)**2"
   ]
  },
  {
   "cell_type": "code",
   "execution_count": null,
   "metadata": {
    "collapsed": true
   },
   "outputs": [],
   "source": []
  }
 ],
 "metadata": {
  "kernelspec": {
   "display_name": "Python 2",
   "language": "python",
   "name": "python2"
  },
  "language_info": {
   "codemirror_mode": {
    "name": "ipython",
    "version": 2
   },
   "file_extension": ".py",
   "mimetype": "text/x-python",
   "name": "python",
   "nbconvert_exporter": "python",
   "pygments_lexer": "ipython2",
   "version": "2.7.13"
  }
 },
 "nbformat": 4,
 "nbformat_minor": 2
}
