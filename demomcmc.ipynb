{
 "cells": [
  {
   "cell_type": "markdown",
   "metadata": {},
   "source": [
    "## demo mcmc"
   ]
  },
  {
   "cell_type": "code",
   "execution_count": 21,
   "metadata": {},
   "outputs": [],
   "source": [
    "import pandas as pd\n",
    "import numpy as np\n",
    "import matplotlib.pyplot as plt\n",
    "import model as model\n",
    "\n",
    "%matplotlib inline"
   ]
  },
  {
   "cell_type": "markdown",
   "metadata": {},
   "source": [
    "## define functions and constants"
   ]
  },
  {
   "cell_type": "code",
   "execution_count": 22,
   "metadata": {
    "collapsed": true
   },
   "outputs": [],
   "source": [
    "def newtheta(theta):\n",
    "    a = 0.05\n",
    "    fa = lambda x:x + a*x*np.random.randn()\n",
    "    current = theta\n",
    "    #newkc = mapkc(current.KC.copy())\n",
    "    #newsig = mapkc(current.sig.copy())\n",
    "    proposed = current.map(fa)\n",
    "    #proposed = current.drop(['KC','sig']).map(fa)\n",
    "    #proposed['KC']=newkc\n",
    "    #proposed['sigma']=newsig\n",
    "    return proposed"
   ]
  },
  {
   "cell_type": "code",
   "execution_count": 48,
   "metadata": {
    "collapsed": true
   },
   "outputs": [],
   "source": [
    "def chisq(data,model,variance):\n",
    "    d = data\n",
    "    m = model\n",
    "    v = variance\n",
    "\n",
    "    #for first epoch probability\n",
    "    fmax = lambda x:(max(x,0.001)**2)\n",
    "    N1 = m['COUNTS_U1']\n",
    "    x1 = (m['FIRST_EPOCH_PROB_U1']-data['FIRST_EPOCH_PROB_U1'])**2\n",
    "    s1 = m['FIRST_EPOCH_PROB_U1'].map(fmax)\n",
    "    N2 = m['COUNTS_U2']\n",
    "    x2 = (m['FIRST_EPOCH_PROB_U2']-data['FIRST_EPOCH_PROB_U2'])**2\n",
    "    s2 = m['FIRST_EPOCH_PROB_U2'].map(fmax)\n",
    "\n",
    "    #other chi's follow form: chi = ((d-m)**2)/(v**2)\n",
    "    chi = pd.DataFrame()\n",
    "    chi['FIRST_EPOCH_PROB_U1'] = (N1*(x1/s1) + N2*(x2/s2))\n",
    "    chi['MEAN_U1'] = ((m['MEAN_U1']-data['MEAN_U1'])**2)/(variance['MEAN_U1']**2)\n",
    "    chi['MEAN_U2'] = ((m['MEAN_U2']-data['MEAN_U2'])**2)/(variance['MEAN_U2']**2)\n",
    "    chi['SD_U1'] = ((m['SD_U1']-data['SD_U1'])**2)/(variance['SD_U1']**2)\n",
    "    chi['SD_U2'] = ((m['SD_U2']-data['SD_U2'])**2)/(variance['SD_U2']**2)\n",
    "\n",
    "    return chi"
   ]
  },
  {
   "cell_type": "code",
   "execution_count": 24,
   "metadata": {
    "collapsed": true
   },
   "outputs": [],
   "source": [
    "def chisum(df):\n",
    "    #return scalar\n",
    "    one = df.sum(axis=0)\n",
    "    two = one.sum(0)\n",
    "    return two"
   ]
  },
  {
   "cell_type": "code",
   "execution_count": 25,
   "metadata": {
    "collapsed": true
   },
   "outputs": [],
   "source": [
    "def taupen(tau_a):\n",
    "    penalty = (tau_a-2)**2\n",
    "    return penalty\n",
    "\n",
    "def kpen(ks,kc):\n",
    "    delta = 0\n",
    "    pen = delta*(ks + kc)**2\n",
    "    return pen"
   ]
  },
  {
   "cell_type": "code",
   "execution_count": 26,
   "metadata": {
    "collapsed": true
   },
   "outputs": [],
   "source": [
    "index = [0,20,40,60,80]\n",
    "cv = 0.6\n",
    "cv_var = 0.2\n",
    "p1_var = 0.1\n",
    "fcv = lambda x: x*cv\n",
    "fcv_var = lambda x:(x*cv_var)\n",
    "fp1_var = lambda x:(x*p1_var)"
   ]
  },
  {
   "cell_type": "markdown",
   "metadata": {},
   "source": [
    "## load data"
   ]
  },
  {
   "cell_type": "code",
   "execution_count": 27,
   "metadata": {
    "collapsed": true
   },
   "outputs": [],
   "source": [
    "syprob = pd.read_csv('sy_prob.csv',index_col=0)\n",
    "syU1 = pd.read_csv('syU1.csv',index_col=0)\n",
    "syU2 = pd.read_csv('syU2.csv',index_col=0)"
   ]
  },
  {
   "cell_type": "markdown",
   "metadata": {},
   "source": [
    "## construct dataframe of data"
   ]
  },
  {
   "cell_type": "code",
   "execution_count": 28,
   "metadata": {
    "collapsed": true
   },
   "outputs": [],
   "source": [
    "data = pd.DataFrame()\n",
    "data['COUNTS_U1'] = syprob['counts_U1']\n",
    "data['COUNTS_U2'] = syprob['counts_U2']\n",
    "data['FIRST_EPOCH_PROB_U1'] = syprob['U1']\n",
    "data['FIRST_EPOCH_PROB_U2'] = syprob['U2']\n",
    "data['MEAN_U1'] = syU1['MEAN']\n",
    "data['MEAN_U2'] = syU2['MEAN']\n",
    "data['SD_U1'] = data['MEAN_U1'].map(fcv)\n",
    "data['SD_U2'] = data['MEAN_U2'].map(fcv)\n",
    "data.index=index\n",
    "col = data.columns"
   ]
  },
  {
   "cell_type": "code",
   "execution_count": 29,
   "metadata": {},
   "outputs": [
    {
     "data": {
      "text/html": [
       "<div>\n",
       "<style>\n",
       "    .dataframe thead tr:only-child th {\n",
       "        text-align: right;\n",
       "    }\n",
       "\n",
       "    .dataframe thead th {\n",
       "        text-align: left;\n",
       "    }\n",
       "\n",
       "    .dataframe tbody tr th {\n",
       "        vertical-align: top;\n",
       "    }\n",
       "</style>\n",
       "<table border=\"1\" class=\"dataframe\">\n",
       "  <thead>\n",
       "    <tr style=\"text-align: right;\">\n",
       "      <th></th>\n",
       "      <th>COUNTS_U1</th>\n",
       "      <th>COUNTS_U2</th>\n",
       "      <th>FIRST_EPOCH_PROB_U1</th>\n",
       "      <th>FIRST_EPOCH_PROB_U2</th>\n",
       "      <th>MEAN_U1</th>\n",
       "      <th>MEAN_U2</th>\n",
       "      <th>SD_U1</th>\n",
       "      <th>SD_U2</th>\n",
       "    </tr>\n",
       "  </thead>\n",
       "  <tbody>\n",
       "    <tr>\n",
       "      <th>0</th>\n",
       "      <td>50</td>\n",
       "      <td>50</td>\n",
       "      <td>0.50</td>\n",
       "      <td>0.50</td>\n",
       "      <td>1800.0</td>\n",
       "      <td>1700.0</td>\n",
       "      <td>1080.0</td>\n",
       "      <td>1020.0</td>\n",
       "    </tr>\n",
       "    <tr>\n",
       "      <th>20</th>\n",
       "      <td>95</td>\n",
       "      <td>5</td>\n",
       "      <td>0.95</td>\n",
       "      <td>0.05</td>\n",
       "      <td>1900.0</td>\n",
       "      <td>1700.0</td>\n",
       "      <td>1140.0</td>\n",
       "      <td>1020.0</td>\n",
       "    </tr>\n",
       "    <tr>\n",
       "      <th>40</th>\n",
       "      <td>99</td>\n",
       "      <td>1</td>\n",
       "      <td>0.99</td>\n",
       "      <td>0.01</td>\n",
       "      <td>2200.0</td>\n",
       "      <td>1700.0</td>\n",
       "      <td>1320.0</td>\n",
       "      <td>1020.0</td>\n",
       "    </tr>\n",
       "    <tr>\n",
       "      <th>60</th>\n",
       "      <td>100</td>\n",
       "      <td>0</td>\n",
       "      <td>1.00</td>\n",
       "      <td>0.00</td>\n",
       "      <td>2700.0</td>\n",
       "      <td>1700.0</td>\n",
       "      <td>1620.0</td>\n",
       "      <td>1020.0</td>\n",
       "    </tr>\n",
       "    <tr>\n",
       "      <th>80</th>\n",
       "      <td>100</td>\n",
       "      <td>0</td>\n",
       "      <td>1.00</td>\n",
       "      <td>0.00</td>\n",
       "      <td>3200.0</td>\n",
       "      <td>1700.0</td>\n",
       "      <td>1920.0</td>\n",
       "      <td>1020.0</td>\n",
       "    </tr>\n",
       "  </tbody>\n",
       "</table>\n",
       "</div>"
      ],
      "text/plain": [
       "    COUNTS_U1  COUNTS_U2  FIRST_EPOCH_PROB_U1  FIRST_EPOCH_PROB_U2  MEAN_U1  \\\n",
       "0          50         50                 0.50                 0.50   1800.0   \n",
       "20         95          5                 0.95                 0.05   1900.0   \n",
       "40         99          1                 0.99                 0.01   2200.0   \n",
       "60        100          0                 1.00                 0.00   2700.0   \n",
       "80        100          0                 1.00                 0.00   3200.0   \n",
       "\n",
       "    MEAN_U2   SD_U1   SD_U2  \n",
       "0    1700.0  1080.0  1020.0  \n",
       "20   1700.0  1140.0  1020.0  \n",
       "40   1700.0  1320.0  1020.0  \n",
       "60   1700.0  1620.0  1020.0  \n",
       "80   1700.0  1920.0  1020.0  "
      ]
     },
     "execution_count": 29,
     "metadata": {},
     "output_type": "execute_result"
    }
   ],
   "source": [
    "data"
   ]
  },
  {
   "cell_type": "markdown",
   "metadata": {},
   "source": [
    "## calculate error and make dataframe from data"
   ]
  },
  {
   "cell_type": "code",
   "execution_count": 30,
   "metadata": {
    "collapsed": true
   },
   "outputs": [],
   "source": [
    "variance = pd.DataFrame()\n",
    "variance['COUNTS_U1'] = data['COUNTS_U1'].map(fp1_var)\n",
    "variance['COUNTS_U2'] = data['COUNTS_U2'].map(fp1_var)\n",
    "variance['FIRST_EPOCH_PROB_U1'] = data['FIRST_EPOCH_PROB_U1'].map(fp1_var)\n",
    "variance['FIRST_EPOCH_PROB_U2'] = data['FIRST_EPOCH_PROB_U2'].map(fp1_var)\n",
    "variance['MEAN_U1'] = data['MEAN_U1'].map(fcv_var)\n",
    "variance['MEAN_U2'] = data['MEAN_U2'].map(fcv_var)\n",
    "variance['SD_U1'] = data['SD_U1'].map(fcv_var)\n",
    "variance['SD_U2'] = data['SD_U2'].map(fcv_var)\n",
    "variance.index = index\n",
    "variance.columns = col"
   ]
  },
  {
   "cell_type": "code",
   "execution_count": 31,
   "metadata": {},
   "outputs": [
    {
     "data": {
      "text/html": [
       "<div>\n",
       "<style>\n",
       "    .dataframe thead tr:only-child th {\n",
       "        text-align: right;\n",
       "    }\n",
       "\n",
       "    .dataframe thead th {\n",
       "        text-align: left;\n",
       "    }\n",
       "\n",
       "    .dataframe tbody tr th {\n",
       "        vertical-align: top;\n",
       "    }\n",
       "</style>\n",
       "<table border=\"1\" class=\"dataframe\">\n",
       "  <thead>\n",
       "    <tr style=\"text-align: right;\">\n",
       "      <th></th>\n",
       "      <th>COUNTS_U1</th>\n",
       "      <th>COUNTS_U2</th>\n",
       "      <th>FIRST_EPOCH_PROB_U1</th>\n",
       "      <th>FIRST_EPOCH_PROB_U2</th>\n",
       "      <th>MEAN_U1</th>\n",
       "      <th>MEAN_U2</th>\n",
       "      <th>SD_U1</th>\n",
       "      <th>SD_U2</th>\n",
       "    </tr>\n",
       "  </thead>\n",
       "  <tbody>\n",
       "    <tr>\n",
       "      <th>0</th>\n",
       "      <td>5.0</td>\n",
       "      <td>5.0</td>\n",
       "      <td>0.050</td>\n",
       "      <td>0.050</td>\n",
       "      <td>360.0</td>\n",
       "      <td>340.0</td>\n",
       "      <td>216.0</td>\n",
       "      <td>204.0</td>\n",
       "    </tr>\n",
       "    <tr>\n",
       "      <th>20</th>\n",
       "      <td>9.5</td>\n",
       "      <td>0.5</td>\n",
       "      <td>0.095</td>\n",
       "      <td>0.005</td>\n",
       "      <td>380.0</td>\n",
       "      <td>340.0</td>\n",
       "      <td>228.0</td>\n",
       "      <td>204.0</td>\n",
       "    </tr>\n",
       "    <tr>\n",
       "      <th>40</th>\n",
       "      <td>9.9</td>\n",
       "      <td>0.1</td>\n",
       "      <td>0.099</td>\n",
       "      <td>0.001</td>\n",
       "      <td>440.0</td>\n",
       "      <td>340.0</td>\n",
       "      <td>264.0</td>\n",
       "      <td>204.0</td>\n",
       "    </tr>\n",
       "    <tr>\n",
       "      <th>60</th>\n",
       "      <td>10.0</td>\n",
       "      <td>0.0</td>\n",
       "      <td>0.100</td>\n",
       "      <td>0.000</td>\n",
       "      <td>540.0</td>\n",
       "      <td>340.0</td>\n",
       "      <td>324.0</td>\n",
       "      <td>204.0</td>\n",
       "    </tr>\n",
       "    <tr>\n",
       "      <th>80</th>\n",
       "      <td>10.0</td>\n",
       "      <td>0.0</td>\n",
       "      <td>0.100</td>\n",
       "      <td>0.000</td>\n",
       "      <td>640.0</td>\n",
       "      <td>340.0</td>\n",
       "      <td>384.0</td>\n",
       "      <td>204.0</td>\n",
       "    </tr>\n",
       "  </tbody>\n",
       "</table>\n",
       "</div>"
      ],
      "text/plain": [
       "    COUNTS_U1  COUNTS_U2  FIRST_EPOCH_PROB_U1  FIRST_EPOCH_PROB_U2  MEAN_U1  \\\n",
       "0         5.0        5.0                0.050                0.050    360.0   \n",
       "20        9.5        0.5                0.095                0.005    380.0   \n",
       "40        9.9        0.1                0.099                0.001    440.0   \n",
       "60       10.0        0.0                0.100                0.000    540.0   \n",
       "80       10.0        0.0                0.100                0.000    640.0   \n",
       "\n",
       "    MEAN_U2  SD_U1  SD_U2  \n",
       "0     340.0  216.0  204.0  \n",
       "20    340.0  228.0  204.0  \n",
       "40    340.0  264.0  204.0  \n",
       "60    340.0  324.0  204.0  \n",
       "80    340.0  384.0  204.0  "
      ]
     },
     "execution_count": 31,
     "metadata": {},
     "output_type": "execute_result"
    }
   ],
   "source": [
    "variance"
   ]
  },
  {
   "cell_type": "code",
   "execution_count": null,
   "metadata": {
    "collapsed": true
   },
   "outputs": [],
   "source": []
  },
  {
   "cell_type": "markdown",
   "metadata": {},
   "source": [
    "### load initial parameters"
   ]
  },
  {
   "cell_type": "code",
   "execution_count": 32,
   "metadata": {},
   "outputs": [
    {
     "data": {
      "text/plain": [
       "alpha       0.000100\n",
       "beta        1.127209\n",
       "gamma       1.777396\n",
       "kb          0.100947\n",
       "kc          0.002921\n",
       "ks          0.228017\n",
       "mu          1.122287\n",
       "sigma       0.045653\n",
       "tau_a    1500.853819\n",
       "tau_u       8.940977\n",
       "Name: 173, dtype: float64"
      ]
     },
     "execution_count": 32,
     "metadata": {},
     "output_type": "execute_result"
    }
   ],
   "source": [
    "initial = pd.read_pickle('IP2.pkl')\n",
    "initial"
   ]
  },
  {
   "cell_type": "code",
   "execution_count": 33,
   "metadata": {},
   "outputs": [
    {
     "name": "stdout",
     "output_type": "stream",
     "text": [
      "CHANGESmcmc.ipynb      mcmc.py                rivalry.pyc\r\n",
      "IP.pkl                 mcmc.pyc               syU1.csv\r\n",
      "IP1.pkl                mcmc_pltsavebest.ipynb syU2.csv\r\n",
      "IP2.pkl                model.py               sy_bias.csv\r\n",
      "README.md              model.pyc              sy_prob.csv\r\n",
      "Rivalry.jl             modelequations2.0.py   \u001b[34mtemp\u001b[m\u001b[m\r\n",
      "demodynamics.ipynb     paramset_model.ipynb\r\n",
      "initialparameters.txt  rivalry.py\r\n"
     ]
    }
   ],
   "source": [
    "!ls"
   ]
  },
  {
   "cell_type": "code",
   "execution_count": 34,
   "metadata": {
    "collapsed": true
   },
   "outputs": [],
   "source": [
    "theta_cur = initial\n",
    "theta_prop = newtheta(theta_cur)"
   ]
  },
  {
   "cell_type": "code",
   "execution_count": 35,
   "metadata": {},
   "outputs": [
    {
     "name": "stdout",
     "output_type": "stream",
     "text": [
      "alpha       0.000100\n",
      "beta        1.127209\n",
      "gamma       1.777396\n",
      "kb          0.100947\n",
      "kc          0.002921\n",
      "ks          0.228017\n",
      "mu          1.122287\n",
      "sigma       0.045653\n",
      "tau_a    1500.853819\n",
      "tau_u       8.940977\n",
      "Name: 173, dtype: float64\n",
      "alpha       0.000100\n",
      "beta        1.216326\n",
      "gamma       1.771524\n",
      "kb          0.100682\n",
      "kc          0.003002\n",
      "ks          0.225976\n",
      "mu          1.182233\n",
      "sigma       0.042519\n",
      "tau_a    1568.443399\n",
      "tau_u       8.796285\n",
      "Name: 173, dtype: float64\n"
     ]
    }
   ],
   "source": [
    "print theta_cur\n",
    "print theta_prop"
   ]
  },
  {
   "cell_type": "markdown",
   "metadata": {},
   "source": [
    "## run model with current and proposed theta values"
   ]
  },
  {
   "cell_type": "code",
   "execution_count": 39,
   "metadata": {
    "collapsed": true
   },
   "outputs": [],
   "source": [
    "#trials\n",
    "dominance = 1\n",
    "firstprob = 200"
   ]
  },
  {
   "cell_type": "code",
   "execution_count": null,
   "metadata": {
    "collapsed": true
   },
   "outputs": [],
   "source": [
    "#m1 = model.run(theta_cur,dominance,firstprob)"
   ]
  },
  {
   "cell_type": "code",
   "execution_count": 46,
   "metadata": {},
   "outputs": [],
   "source": [
    "#m2 = model.run(theta_prop,dominance,firstprob)"
   ]
  },
  {
   "cell_type": "code",
   "execution_count": 42,
   "metadata": {},
   "outputs": [
    {
     "data": {
      "text/html": [
       "<div>\n",
       "<style>\n",
       "    .dataframe thead tr:only-child th {\n",
       "        text-align: right;\n",
       "    }\n",
       "\n",
       "    .dataframe thead th {\n",
       "        text-align: left;\n",
       "    }\n",
       "\n",
       "    .dataframe tbody tr th {\n",
       "        vertical-align: top;\n",
       "    }\n",
       "</style>\n",
       "<table border=\"1\" class=\"dataframe\">\n",
       "  <thead>\n",
       "    <tr style=\"text-align: right;\">\n",
       "      <th></th>\n",
       "      <th>COUNTS_U1</th>\n",
       "      <th>COUNTS_U2</th>\n",
       "      <th>FIRST_EPOCH_PROB_U1</th>\n",
       "      <th>FIRST_EPOCH_PROB_U2</th>\n",
       "      <th>MEAN_U1</th>\n",
       "      <th>MEAN_U2</th>\n",
       "      <th>SD_U1</th>\n",
       "      <th>SD_U2</th>\n",
       "    </tr>\n",
       "  </thead>\n",
       "  <tbody>\n",
       "    <tr>\n",
       "      <th>0</th>\n",
       "      <td>99.0</td>\n",
       "      <td>101.0</td>\n",
       "      <td>0.495</td>\n",
       "      <td>0.505</td>\n",
       "      <td>736.438806</td>\n",
       "      <td>742.800000</td>\n",
       "      <td>443.244235</td>\n",
       "      <td>447.884392</td>\n",
       "    </tr>\n",
       "    <tr>\n",
       "      <th>20</th>\n",
       "      <td>138.0</td>\n",
       "      <td>62.0</td>\n",
       "      <td>0.690</td>\n",
       "      <td>0.310</td>\n",
       "      <td>774.246246</td>\n",
       "      <td>719.515060</td>\n",
       "      <td>473.119181</td>\n",
       "      <td>435.856735</td>\n",
       "    </tr>\n",
       "    <tr>\n",
       "      <th>40</th>\n",
       "      <td>151.0</td>\n",
       "      <td>49.0</td>\n",
       "      <td>0.755</td>\n",
       "      <td>0.245</td>\n",
       "      <td>818.886154</td>\n",
       "      <td>702.266871</td>\n",
       "      <td>488.692059</td>\n",
       "      <td>417.728461</td>\n",
       "    </tr>\n",
       "    <tr>\n",
       "      <th>60</th>\n",
       "      <td>164.0</td>\n",
       "      <td>36.0</td>\n",
       "      <td>0.820</td>\n",
       "      <td>0.180</td>\n",
       "      <td>879.380952</td>\n",
       "      <td>692.615873</td>\n",
       "      <td>506.370315</td>\n",
       "      <td>396.750101</td>\n",
       "    </tr>\n",
       "    <tr>\n",
       "      <th>80</th>\n",
       "      <td>188.0</td>\n",
       "      <td>12.0</td>\n",
       "      <td>0.940</td>\n",
       "      <td>0.060</td>\n",
       "      <td>892.391304</td>\n",
       "      <td>650.593168</td>\n",
       "      <td>539.192658</td>\n",
       "      <td>388.652912</td>\n",
       "    </tr>\n",
       "  </tbody>\n",
       "</table>\n",
       "</div>"
      ],
      "text/plain": [
       "    COUNTS_U1  COUNTS_U2  FIRST_EPOCH_PROB_U1  FIRST_EPOCH_PROB_U2  \\\n",
       "0        99.0      101.0                0.495                0.505   \n",
       "20      138.0       62.0                0.690                0.310   \n",
       "40      151.0       49.0                0.755                0.245   \n",
       "60      164.0       36.0                0.820                0.180   \n",
       "80      188.0       12.0                0.940                0.060   \n",
       "\n",
       "       MEAN_U1     MEAN_U2       SD_U1       SD_U2  \n",
       "0   736.438806  742.800000  443.244235  447.884392  \n",
       "20  774.246246  719.515060  473.119181  435.856735  \n",
       "40  818.886154  702.266871  488.692059  417.728461  \n",
       "60  879.380952  692.615873  506.370315  396.750101  \n",
       "80  892.391304  650.593168  539.192658  388.652912  "
      ]
     },
     "execution_count": 42,
     "metadata": {},
     "output_type": "execute_result"
    }
   ],
   "source": [
    "m1.index = index\n",
    "m1.columns = col\n",
    "m1"
   ]
  },
  {
   "cell_type": "code",
   "execution_count": 45,
   "metadata": {},
   "outputs": [
    {
     "data": {
      "text/html": [
       "<div>\n",
       "<style>\n",
       "    .dataframe thead tr:only-child th {\n",
       "        text-align: right;\n",
       "    }\n",
       "\n",
       "    .dataframe thead th {\n",
       "        text-align: left;\n",
       "    }\n",
       "\n",
       "    .dataframe tbody tr th {\n",
       "        vertical-align: top;\n",
       "    }\n",
       "</style>\n",
       "<table border=\"1\" class=\"dataframe\">\n",
       "  <thead>\n",
       "    <tr style=\"text-align: right;\">\n",
       "      <th></th>\n",
       "      <th>COUNTS_U1</th>\n",
       "      <th>COUNTS_U2</th>\n",
       "      <th>FIRST_EPOCH_PROB_U1</th>\n",
       "      <th>FIRST_EPOCH_PROB_U2</th>\n",
       "      <th>MEAN_U1</th>\n",
       "      <th>MEAN_U2</th>\n",
       "      <th>SD_U1</th>\n",
       "      <th>SD_U2</th>\n",
       "    </tr>\n",
       "  </thead>\n",
       "  <tbody>\n",
       "    <tr>\n",
       "      <th>0</th>\n",
       "      <td>96.0</td>\n",
       "      <td>104.0</td>\n",
       "      <td>0.480</td>\n",
       "      <td>0.520</td>\n",
       "      <td>1521.141975</td>\n",
       "      <td>1512.870370</td>\n",
       "      <td>520.446317</td>\n",
       "      <td>519.955069</td>\n",
       "    </tr>\n",
       "    <tr>\n",
       "      <th>20</th>\n",
       "      <td>121.0</td>\n",
       "      <td>79.0</td>\n",
       "      <td>0.605</td>\n",
       "      <td>0.395</td>\n",
       "      <td>1593.728395</td>\n",
       "      <td>1459.968944</td>\n",
       "      <td>541.525087</td>\n",
       "      <td>494.729105</td>\n",
       "    </tr>\n",
       "    <tr>\n",
       "      <th>40</th>\n",
       "      <td>127.0</td>\n",
       "      <td>73.0</td>\n",
       "      <td>0.635</td>\n",
       "      <td>0.365</td>\n",
       "      <td>1714.386076</td>\n",
       "      <td>1393.525316</td>\n",
       "      <td>561.673536</td>\n",
       "      <td>445.849618</td>\n",
       "    </tr>\n",
       "    <tr>\n",
       "      <th>60</th>\n",
       "      <td>140.0</td>\n",
       "      <td>60.0</td>\n",
       "      <td>0.700</td>\n",
       "      <td>0.300</td>\n",
       "      <td>1833.316129</td>\n",
       "      <td>1343.597403</td>\n",
       "      <td>580.043666</td>\n",
       "      <td>421.527995</td>\n",
       "    </tr>\n",
       "    <tr>\n",
       "      <th>80</th>\n",
       "      <td>151.0</td>\n",
       "      <td>49.0</td>\n",
       "      <td>0.755</td>\n",
       "      <td>0.245</td>\n",
       "      <td>1993.738255</td>\n",
       "      <td>1327.255034</td>\n",
       "      <td>572.321722</td>\n",
       "      <td>368.801999</td>\n",
       "    </tr>\n",
       "  </tbody>\n",
       "</table>\n",
       "</div>"
      ],
      "text/plain": [
       "    COUNTS_U1  COUNTS_U2  FIRST_EPOCH_PROB_U1  FIRST_EPOCH_PROB_U2  \\\n",
       "0        96.0      104.0                0.480                0.520   \n",
       "20      121.0       79.0                0.605                0.395   \n",
       "40      127.0       73.0                0.635                0.365   \n",
       "60      140.0       60.0                0.700                0.300   \n",
       "80      151.0       49.0                0.755                0.245   \n",
       "\n",
       "        MEAN_U1      MEAN_U2       SD_U1       SD_U2  \n",
       "0   1521.141975  1512.870370  520.446317  519.955069  \n",
       "20  1593.728395  1459.968944  541.525087  494.729105  \n",
       "40  1714.386076  1393.525316  561.673536  445.849618  \n",
       "60  1833.316129  1343.597403  580.043666  421.527995  \n",
       "80  1993.738255  1327.255034  572.321722  368.801999  "
      ]
     },
     "execution_count": 45,
     "metadata": {},
     "output_type": "execute_result"
    }
   ],
   "source": [
    "m2.index = index\n",
    "m2.columns=col\n",
    "m2"
   ]
  },
  {
   "cell_type": "markdown",
   "metadata": {},
   "source": [
    "## caluclate chi construct dataframe"
   ]
  },
  {
   "cell_type": "code",
   "execution_count": 49,
   "metadata": {},
   "outputs": [],
   "source": [
    "chicur = pd.DataFrame(chisq(data,m1,variance),index=index)\n",
    "chiprop = pd.DataFrame(chisq(data,m2,variance),index=index)"
   ]
  },
  {
   "cell_type": "code",
   "execution_count": 50,
   "metadata": {},
   "outputs": [
    {
     "data": {
      "text/html": [
       "<div>\n",
       "<style>\n",
       "    .dataframe thead tr:only-child th {\n",
       "        text-align: right;\n",
       "    }\n",
       "\n",
       "    .dataframe thead th {\n",
       "        text-align: left;\n",
       "    }\n",
       "\n",
       "    .dataframe tbody tr th {\n",
       "        vertical-align: top;\n",
       "    }\n",
       "</style>\n",
       "<table border=\"1\" class=\"dataframe\">\n",
       "  <thead>\n",
       "    <tr style=\"text-align: right;\">\n",
       "      <th></th>\n",
       "      <th>FIRST_EPOCH_PROB_U1</th>\n",
       "      <th>MEAN_U1</th>\n",
       "      <th>MEAN_U2</th>\n",
       "      <th>SD_U1</th>\n",
       "      <th>SD_U2</th>\n",
       "    </tr>\n",
       "  </thead>\n",
       "  <tbody>\n",
       "    <tr>\n",
       "      <th>0</th>\n",
       "      <td>0.020002</td>\n",
       "      <td>8.728105</td>\n",
       "      <td>7.925881</td>\n",
       "      <td>8.690370</td>\n",
       "      <td>7.865154</td>\n",
       "    </tr>\n",
       "    <tr>\n",
       "      <th>20</th>\n",
       "      <td>63.207106</td>\n",
       "      <td>8.776465</td>\n",
       "      <td>8.316183</td>\n",
       "      <td>8.555133</td>\n",
       "      <td>8.199331</td>\n",
       "    </tr>\n",
       "    <tr>\n",
       "      <th>40</th>\n",
       "      <td>59.710772</td>\n",
       "      <td>9.852662</td>\n",
       "      <td>8.611344</td>\n",
       "      <td>9.915532</td>\n",
       "      <td>8.716143</td>\n",
       "    </tr>\n",
       "    <tr>\n",
       "      <th>60</th>\n",
       "      <td>43.902439</td>\n",
       "      <td>11.367125</td>\n",
       "      <td>8.778744</td>\n",
       "      <td>11.813853</td>\n",
       "      <td>9.333921</td>\n",
       "    </tr>\n",
       "    <tr>\n",
       "      <th>80</th>\n",
       "      <td>12.765957</td>\n",
       "      <td>13.000630</td>\n",
       "      <td>9.526425</td>\n",
       "      <td>12.930155</td>\n",
       "      <td>9.578026</td>\n",
       "    </tr>\n",
       "  </tbody>\n",
       "</table>\n",
       "</div>"
      ],
      "text/plain": [
       "    FIRST_EPOCH_PROB_U1    MEAN_U1   MEAN_U2      SD_U1     SD_U2\n",
       "0              0.020002   8.728105  7.925881   8.690370  7.865154\n",
       "20            63.207106   8.776465  8.316183   8.555133  8.199331\n",
       "40            59.710772   9.852662  8.611344   9.915532  8.716143\n",
       "60            43.902439  11.367125  8.778744  11.813853  9.333921\n",
       "80            12.765957  13.000630  9.526425  12.930155  9.578026"
      ]
     },
     "execution_count": 50,
     "metadata": {},
     "output_type": "execute_result"
    }
   ],
   "source": [
    "chicur"
   ]
  },
  {
   "cell_type": "code",
   "execution_count": 53,
   "metadata": {
    "scrolled": true
   },
   "outputs": [
    {
     "data": {
      "text/html": [
       "<div>\n",
       "<style>\n",
       "    .dataframe thead tr:only-child th {\n",
       "        text-align: right;\n",
       "    }\n",
       "\n",
       "    .dataframe thead th {\n",
       "        text-align: left;\n",
       "    }\n",
       "\n",
       "    .dataframe tbody tr th {\n",
       "        vertical-align: top;\n",
       "    }\n",
       "</style>\n",
       "<table border=\"1\" class=\"dataframe\">\n",
       "  <thead>\n",
       "    <tr style=\"text-align: right;\">\n",
       "      <th></th>\n",
       "      <th>FIRST_EPOCH_PROB_U1</th>\n",
       "      <th>MEAN_U1</th>\n",
       "      <th>MEAN_U2</th>\n",
       "      <th>SD_U1</th>\n",
       "      <th>SD_U2</th>\n",
       "    </tr>\n",
       "  </thead>\n",
       "  <tbody>\n",
       "    <tr>\n",
       "      <th>0</th>\n",
       "      <td>0.320513</td>\n",
       "      <td>0.600014</td>\n",
       "      <td>0.302920</td>\n",
       "      <td>6.710827</td>\n",
       "      <td>6.008385</td>\n",
       "    </tr>\n",
       "    <tr>\n",
       "      <th>20</th>\n",
       "      <td>99.612930</td>\n",
       "      <td>0.649600</td>\n",
       "      <td>0.498399</td>\n",
       "      <td>6.890047</td>\n",
       "      <td>6.629890</td>\n",
       "    </tr>\n",
       "    <tr>\n",
       "      <th>40</th>\n",
       "      <td>108.747708</td>\n",
       "      <td>1.218083</td>\n",
       "      <td>0.812515</td>\n",
       "      <td>8.250962</td>\n",
       "      <td>7.921200</td>\n",
       "    </tr>\n",
       "    <tr>\n",
       "      <th>60</th>\n",
       "      <td>85.714286</td>\n",
       "      <td>2.575929</td>\n",
       "      <td>1.098813</td>\n",
       "      <td>10.302442</td>\n",
       "      <td>8.606515</td>\n",
       "    </tr>\n",
       "    <tr>\n",
       "      <th>80</th>\n",
       "      <td>64.900662</td>\n",
       "      <td>3.552411</td>\n",
       "      <td>1.201893</td>\n",
       "      <td>12.317144</td>\n",
       "      <td>10.189803</td>\n",
       "    </tr>\n",
       "  </tbody>\n",
       "</table>\n",
       "</div>"
      ],
      "text/plain": [
       "    FIRST_EPOCH_PROB_U1   MEAN_U1   MEAN_U2      SD_U1      SD_U2\n",
       "0              0.320513  0.600014  0.302920   6.710827   6.008385\n",
       "20            99.612930  0.649600  0.498399   6.890047   6.629890\n",
       "40           108.747708  1.218083  0.812515   8.250962   7.921200\n",
       "60            85.714286  2.575929  1.098813  10.302442   8.606515\n",
       "80            64.900662  3.552411  1.201893  12.317144  10.189803"
      ]
     },
     "execution_count": 53,
     "metadata": {},
     "output_type": "execute_result"
    }
   ],
   "source": [
    "chiprop"
   ]
  },
  {
   "cell_type": "markdown",
   "metadata": {},
   "source": [
    "##  calulate likelihood ratio"
   ]
  },
  {
   "cell_type": "code",
   "execution_count": 54,
   "metadata": {},
   "outputs": [
    {
     "name": "stdout",
     "output_type": "stream",
     "text": [
      "370.087457924\n",
      "455.633890042\n"
     ]
    }
   ],
   "source": [
    "sumchicur = chisum(chicur)\n",
    "sumprop = chisum(chiprop)\n",
    "print sumchicur\n",
    "print sumprop"
   ]
  },
  {
   "cell_type": "code",
   "execution_count": 55,
   "metadata": {},
   "outputs": [
    {
     "data": {
      "text/plain": [
       "2.6535562151025129e-19"
      ]
     },
     "execution_count": 55,
     "metadata": {},
     "output_type": "execute_result"
    }
   ],
   "source": [
    "ratio = np.exp((-sumprop+sumchicur)/2)\n",
    "ratio"
   ]
  },
  {
   "cell_type": "code",
   "execution_count": 280,
   "metadata": {
    "collapsed": true
   },
   "outputs": [],
   "source": []
  },
  {
   "cell_type": "code",
   "execution_count": null,
   "metadata": {
    "collapsed": true
   },
   "outputs": [],
   "source": []
  }
 ],
 "metadata": {
  "kernelspec": {
   "display_name": "Python 2",
   "language": "python",
   "name": "python2"
  },
  "language_info": {
   "codemirror_mode": {
    "name": "ipython",
    "version": 2
   },
   "file_extension": ".py",
   "mimetype": "text/x-python",
   "name": "python",
   "nbconvert_exporter": "python",
   "pygments_lexer": "ipython2",
   "version": "2.7.13"
  }
 },
 "nbformat": 4,
 "nbformat_minor": 2
}
