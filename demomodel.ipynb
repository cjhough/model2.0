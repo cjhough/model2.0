{
 "cells": [
  {
   "cell_type": "markdown",
   "metadata": {},
   "source": [
    "# Demo Model"
   ]
  },
  {
   "cell_type": "code",
   "execution_count": 23,
   "metadata": {
    "collapsed": true
   },
   "outputs": [],
   "source": [
    "import numpy as np\n",
    "import pandas as pd\n",
    "import matplotlib.pyplot as plt\n",
    "import rivalry as rv\n",
    "%matplotlib inline"
   ]
  },
  {
   "cell_type": "markdown",
   "metadata": {},
   "source": [
    "## system parameters"
   ]
  },
  {
   "cell_type": "code",
   "execution_count": 26,
   "metadata": {
    "scrolled": true
   },
   "outputs": [
    {
     "name": "stdout",
     "output_type": "stream",
     "text": [
      "bach.pkl       beethoven6.pkl brahms.pkl     cepbach95.pkl  couperin.pkl\r\n",
      "bach140.pkl    beethoven7.pkl bruch.pkl      chopin.pkl     couperin2.pkl\r\n",
      "barber.pkl     beethoven8.pkl bruch200.pkl   chopin2.pkl    faure.pkl\r\n",
      "beethoven.pkl  bizet.pkl      cepbach.pkl    copland.pkl    strauss.pkl\r\n"
     ]
    }
   ],
   "source": [
    "!ls *.pkl"
   ]
  },
  {
   "cell_type": "code",
   "execution_count": 12,
   "metadata": {
    "collapsed": true
   },
   "outputs": [],
   "source": [
    "#"
   ]
  },
  {
   "cell_type": "code",
   "execution_count": 27,
   "metadata": {
    "collapsed": true
   },
   "outputs": [],
   "source": [
    "name = str('cepbach95.pkl')"
   ]
  },
  {
   "cell_type": "code",
   "execution_count": 28,
   "metadata": {},
   "outputs": [
    {
     "name": "stdout",
     "output_type": "stream",
     "text": [
      "alpha       0.000053\n",
      "beta        0.820445\n",
      "gamma       1.002089\n",
      "kb          0.123951\n",
      "kc          0.004703\n",
      "ks          0.172214\n",
      "mu          0.787044\n",
      "sigma       0.022573\n",
      "tau_a    2672.963764\n",
      "tau_u      14.947085\n",
      "Name: 95, dtype: float64\n"
     ]
    }
   ],
   "source": [
    "par = pd.read_pickle(name)\n",
    "theta = pd.Series(par)\n",
    "print theta"
   ]
  },
  {
   "cell_type": "markdown",
   "metadata": {},
   "source": [
    "## run dynamics for system parameters and stimulus conditions"
   ]
  },
  {
   "cell_type": "code",
   "execution_count": 29,
   "metadata": {
    "collapsed": true
   },
   "outputs": [],
   "source": [
    "ONSET = np.arange(200)\n",
    "condition = [0,1,2,3,4]\n",
    "\n",
    "dt = 1\n",
    "dom_ms = 500000\n",
    "onset_ms= 6000\n",
    "\n",
    "prestim = 6000\n",
    "\n",
    "PERCENT_IMBALANCE = {}\n",
    "PERCENT_IMBALANCE={n:[] for n in condition}\n",
    "DOMINANCE_INTERVALS = {}\n",
    "DOMINANCE_INTERVALS = {n:[] for n in condition}\n",
    "DYNAMICS_ACTIVITY = {}\n",
    "DYNAMICS_ACTIVITY = {n:[] for n in condition}\n",
    "DYNAMICS_ONSET = {}\n",
    "DYNAMICS_ONSET = {n:[] for n in condition}"
   ]
  },
  {
   "cell_type": "code",
   "execution_count": null,
   "metadata": {
    "scrolled": false
   },
   "outputs": [
    {
     "name": "stdout",
     "output_type": "stream",
     "text": [
      "0\n",
      "1\n"
     ]
    }
   ],
   "source": [
    "for imbalance in PERCENT_IMBALANCE.keys():\n",
    "    \n",
    "    r = imbalance\n",
    "    print r\n",
    "    \n",
    "    DOM1 = []\n",
    "    DOM2 = []\n",
    "    LEADER = []\n",
    "    \n",
    "    run_dom = {}\n",
    "    U1d = []\n",
    "    U2d = []\n",
    "    Td = []\n",
    "\n",
    "    run_dom = rv.dynamics(theta,r,dom_ms,prestim,dt,full=True)\n",
    "    U1d = np.asarray(run_dom.pop('u1'))\n",
    "    U2d = np.asarray(run_dom.pop('u2'))\n",
    "    Td = np.asarray(run_dom.pop('t'))\n",
    "\n",
    "    run_dom.clear()\n",
    "\n",
    "    td1 = rv.dominance(Td,U1d,U2d,prestim)\n",
    "    td2 = rv.dominance(Td,U2d,U1d,prestim)\n",
    "\n",
    "    DOM1.extend(td1)\n",
    "    DOM2.extend(td2)\n",
    "\n",
    "    TD1 = np.array(DOM1)\n",
    "    TD2 = np.array(DOM2)\n",
    "    \n",
    "    DYN={}\n",
    "    DYN['U1'] = U1d\n",
    "    DYN['U2'] = U2d\n",
    "    DYN['TIME'] = Td\n",
    "    \n",
    "    DOM = {}\n",
    "    DOM['U1'] = TD1\n",
    "    DOM['U2'] = TD2\n",
    "    \n",
    "    for trial in ONSET:\n",
    "\n",
    "            run_onset = {}\n",
    "            U1p = []\n",
    "            U2p = []\n",
    "            Tp = []\n",
    "\n",
    "            run_onset = rv.dynamics(theta,r,onset_ms,prestim,dt,full=True)\n",
    "\n",
    "            U1p = np.asarray(run_onset.pop('u1'))\n",
    "            U2p = np.asarray(run_onset.pop('u2'))\n",
    "            Tp = np.asarray(run_onset.pop('t'))\n",
    "\n",
    "            run_onset.clear()\n",
    "\n",
    "            first = rv.first_epoch(U1p,U2p,Tp,prestim,dt)\n",
    "            LEADER.append(first)\n",
    "        \n",
    "    ONS={}\n",
    "    ONS['U1'] = U1p\n",
    "    ONS['U2'] = U2p\n",
    "    ONS['TIME'] = Tp\n",
    "    ONS['LEADER_RESULTS'] = LEADER\n",
    "    \n",
    "    FINAL_DATA = {}\n",
    "    FINAL_DATA['FIRST_EPOCH_PROB_U1'] = rv.prob_seq(LEADER,1,2)\n",
    "    FINAL_DATA['FIRST_EPOCH_PROB_U2'] = rv.prob_seq(LEADER,2,1)\n",
    "    FINAL_DATA['COUNTS_U1'] = LEADER.count(1)\n",
    "    FINAL_DATA['COUNTS_U2'] = LEADER.count(2)\n",
    "    FINAL_DATA['MEAN_U1'] = np.mean(TD1)\n",
    "    FINAL_DATA['MEAN_U2'] = np.mean(TD2)\n",
    "    FINAL_DATA['SD_U1'] = np.std(TD1)\n",
    "    FINAL_DATA['SD_U2'] = np.std(TD2)\n",
    "\n",
    "    \n",
    "    DYNAMICS_ACTIVITY[imbalance] = DYN #only from last trial\n",
    "    DYNAMICS_ONSET[imbalance] = ONS #only from last trial\n",
    "    DOMINANCE_INTERVALS[imbalance] = DOM\n",
    "    PERCENT_IMBALANCE[imbalance] = FINAL_DATA\n",
    "\n",
    "print \"done\""
   ]
  },
  {
   "cell_type": "markdown",
   "metadata": {},
   "source": [
    "## plot activity dynamics"
   ]
  },
  {
   "cell_type": "code",
   "execution_count": null,
   "metadata": {
    "collapsed": true
   },
   "outputs": [],
   "source": [
    "#create pandas series for each contrast imbalance value\n",
    "DYN0 = pd.Series(DYNAMICS_ACTIVITY[0])\n",
    "DYN1 = pd.Series(DYNAMICS_ACTIVITY[1])\n",
    "DYN2 = pd.Series(DYNAMICS_ACTIVITY[2])\n",
    "DYN3 = pd.Series(DYNAMICS_ACTIVITY[3])\n",
    "DYN4 = pd.Series(DYNAMICS_ACTIVITY[4])\n",
    "#create pandas series for each contrast imbalance value\n",
    "ONS0 = pd.Series(DYNAMICS_ONSET[0])\n",
    "ONS1 = pd.Series(DYNAMICS_ONSET[1])\n",
    "ONS2 = pd.Series(DYNAMICS_ONSET[2])\n",
    "ONS3 = pd.Series(DYNAMICS_ONSET[3])\n",
    "ONS4 = pd.Series(DYNAMICS_ONSET[4])"
   ]
  },
  {
   "cell_type": "code",
   "execution_count": null,
   "metadata": {},
   "outputs": [],
   "source": [
    "fig = plt.figure(figsize=(10,6))\n",
    "ax0 = fig.add_subplot(331)\n",
    "ax1 = fig.add_subplot(332)\n",
    "ax2 = fig.add_subplot(333)\n",
    "ax3 = fig.add_subplot(334)\n",
    "ax4 = fig.add_subplot(335)\n",
    "\n",
    "ax0.plot(DYN0.TIME,DYN0.U1,DYN0.TIME,DYN0.U2)\n",
    "ax1.plot(DYN1.TIME,DYN1.U1,DYN1.TIME,DYN1.U2)\n",
    "ax2.plot(DYN2.TIME,DYN2.U1,DYN2.TIME,DYN2.U2)\n",
    "ax3.plot(DYN3.TIME,DYN3.U1,DYN3.TIME,DYN3.U2)\n",
    "ax4.plot(DYN4.TIME,DYN4.U1,DYN4.TIME,DYN4.U2)\n",
    "\n",
    "xmax=30000\n",
    "ax0.set_xlim(0,xmax)\n",
    "ax1.set_xlim(0,xmax)\n",
    "ax2.set_xlim(0,xmax)\n",
    "ax3.set_xlim(0,xmax)\n",
    "ax4.set_xlim(xmax,80000)\n",
    "#ax0.set_ylim(-0.1,2.0)\n",
    "#ax1.set_ylim(-0.1,2.0)\n",
    "#ax2.set_ylim(-0.1,2.0)\n",
    "#ax3.set_ylim(-0.1,2.0)\n",
    "#ax4.set_ylim(-0.1,2.0)\n",
    "#plt.legend(loc=9)\n",
    "\n",
    "ax0.set_title('none')\n",
    "ax1.set_title('20.0% Contrast Imbalance')\n",
    "ax2.set_title('40.0% Contrast Imbalance')\n",
    "ax3.set_title('60.0% Contrast Imbalance')\n",
    "ax4.set_title('80.0% Contrast Imbalance')\n",
    "\n",
    "fig.tight_layout()\n",
    "fig.get_figure()\n",
    "\n",
    "fig.set_size_inches(12,10)\n",
    "#fig.savefig('/Users/carly/Desktop/possiblydone/activityplt05.png', dpi=100)"
   ]
  },
  {
   "cell_type": "code",
   "execution_count": null,
   "metadata": {},
   "outputs": [],
   "source": [
    "fig = plt.figure(figsize=(10,6))\n",
    "ax0 = fig.add_subplot(331)\n",
    "ax1 = fig.add_subplot(332)\n",
    "ax2 = fig.add_subplot(333)\n",
    "ax3 = fig.add_subplot(334)\n",
    "ax4 = fig.add_subplot(335)\n",
    "\n",
    "ax0.plot(ONS0.TIME,ONS0.U1,ONS0.TIME,ONS0.U2)\n",
    "ax1.plot(ONS1.TIME,ONS1.U1,ONS1.TIME,ONS1.U2)\n",
    "ax2.plot(ONS2.TIME,ONS2.U1,ONS2.TIME,ONS2.U2)\n",
    "ax3.plot(ONS3.TIME,ONS3.U1,ONS3.TIME,ONS3.U2)\n",
    "ax4.plot(ONS4.TIME,ONS4.U1,ONS4.TIME,ONS4.U2)\n",
    "\n",
    "#ax0.set_xlim(0,0.25)\n",
    "#ax1.set_xlim(2,5)\n",
    "#ax2.set_xlim(2,5)\n",
    "#ax3.set_xlim(2,5)\n",
    "#ax4.set_xlim(2,5)\n",
    "#ax0.set_ylim(-0.1,2.0)\n",
    "#ax1.set_ylim(-0.1,2.0)\n",
    "#ax2.set_ylim(-0.1,2.0)\n",
    "#ax3.set_ylim(-0.1,2.0)\n",
    "#ax4.set_ylim(-0.1,2.0)\n",
    "#plt.legend(loc=9)\n",
    "\n",
    "ax0.set_title('none')\n",
    "ax1.set_title('20.0% Contrast Imbalance')\n",
    "ax2.set_title('40.0% Contrast Imbalance')\n",
    "ax3.set_title('60.0% Contrast Imbalance')\n",
    "ax4.set_title('80.0% Contrast Imbalance')\n",
    "\n",
    "fig.tight_layout()\n",
    "fig.get_figure()\n",
    "\n",
    "fig.set_size_inches(12,10)\n",
    "#fig.savefig('/Users/carly/Desktop/possiblydone/activityplt05.png', dpi=100)"
   ]
  },
  {
   "cell_type": "markdown",
   "metadata": {},
   "source": [
    "## assemble results in dataframe and calculate CV"
   ]
  },
  {
   "cell_type": "code",
   "execution_count": null,
   "metadata": {},
   "outputs": [],
   "source": [
    "model_data = pd.DataFrame(PERCENT_IMBALANCE).T\n",
    "model_data['CV U1'] = model_data['SD_U1']/model_data['MEAN_U1']\n",
    "model_data['CV U2'] = model_data['SD_U2']/model_data['MEAN_U2']\n",
    "model_data"
   ]
  },
  {
   "cell_type": "code",
   "execution_count": 21,
   "metadata": {
    "collapsed": true
   },
   "outputs": [],
   "source": [
    "model_dynamics = pd.DataFrame(DYNAMICS_ACTIVITY).T\n",
    "model_dyn_onset = pd.DataFrame(DYNAMICS_ONSET).T\n",
    "model_dominance = pd.DataFrame(DOMINANCE_INTERVALS).T"
   ]
  },
  {
   "cell_type": "code",
   "execution_count": 22,
   "metadata": {
    "collapsed": true
   },
   "outputs": [],
   "source": [
    "#model_data.to_pickle('/Users/carly/CODE/modeldata.pkl')\n",
    "#model_dynamics.to_pickle('/Users/carly/CODE/modeldynamics.pkl')\n",
    "#model_dyn_onset.to_pickle('/Users/carly/CODE/modeldynonset.pkl')\n",
    "#model_dominance.to_pickle('/Users/carly/CODE/modeldominance.pkl')"
   ]
  },
  {
   "cell_type": "code",
   "execution_count": 20,
   "metadata": {},
   "outputs": [
    {
     "data": {
      "text/html": [
       "<div>\n",
       "<style>\n",
       "    .dataframe thead tr:only-child th {\n",
       "        text-align: right;\n",
       "    }\n",
       "\n",
       "    .dataframe thead th {\n",
       "        text-align: left;\n",
       "    }\n",
       "\n",
       "    .dataframe tbody tr th {\n",
       "        vertical-align: top;\n",
       "    }\n",
       "</style>\n",
       "<table border=\"1\" class=\"dataframe\">\n",
       "  <thead>\n",
       "    <tr style=\"text-align: right;\">\n",
       "      <th></th>\n",
       "      <th>U1</th>\n",
       "      <th>U2</th>\n",
       "    </tr>\n",
       "  </thead>\n",
       "  <tbody>\n",
       "    <tr>\n",
       "      <th>0</th>\n",
       "      <td>[1955, 2201, 2119, 1837, 2014, 2174, 1975, 205...</td>\n",
       "      <td>[2042, 1919, 1902, 2125, 2058, 2279, 2083, 201...</td>\n",
       "    </tr>\n",
       "    <tr>\n",
       "      <th>1</th>\n",
       "      <td>[2263, 2, 2224, 2066, 2527, 2, 1921, 2143, 195...</td>\n",
       "      <td>[1827, 3, 1772, 1833, 1753, 2, 1582, 1727, 134...</td>\n",
       "    </tr>\n",
       "    <tr>\n",
       "      <th>2</th>\n",
       "      <td>[2497, 9, 3, 2344, 2, 2612, 2252, 2629, 2827, ...</td>\n",
       "      <td>[1610, 1447, 2, 2, 3, 1641, 1622, 1792, 1715, ...</td>\n",
       "    </tr>\n",
       "    <tr>\n",
       "      <th>3</th>\n",
       "      <td>[3282, 2510, 2772, 2868, 2948, 2, 3043, 2772, ...</td>\n",
       "      <td>[1499, 1576, 1600, 1417, 3, 1624, 1551, 1492, ...</td>\n",
       "    </tr>\n",
       "    <tr>\n",
       "      <th>4</th>\n",
       "      <td>[3809, 3626, 3, 5545, 4559, 4131, 3925, 5155, ...</td>\n",
       "      <td>[1335, 1421, 2, 1338, 1359, 1339, 1500, 1411, ...</td>\n",
       "    </tr>\n",
       "  </tbody>\n",
       "</table>\n",
       "</div>"
      ],
      "text/plain": [
       "                                                  U1  \\\n",
       "0  [1955, 2201, 2119, 1837, 2014, 2174, 1975, 205...   \n",
       "1  [2263, 2, 2224, 2066, 2527, 2, 1921, 2143, 195...   \n",
       "2  [2497, 9, 3, 2344, 2, 2612, 2252, 2629, 2827, ...   \n",
       "3  [3282, 2510, 2772, 2868, 2948, 2, 3043, 2772, ...   \n",
       "4  [3809, 3626, 3, 5545, 4559, 4131, 3925, 5155, ...   \n",
       "\n",
       "                                                  U2  \n",
       "0  [2042, 1919, 1902, 2125, 2058, 2279, 2083, 201...  \n",
       "1  [1827, 3, 1772, 1833, 1753, 2, 1582, 1727, 134...  \n",
       "2  [1610, 1447, 2, 2, 3, 1641, 1622, 1792, 1715, ...  \n",
       "3  [1499, 1576, 1600, 1417, 3, 1624, 1551, 1492, ...  \n",
       "4  [1335, 1421, 2, 1338, 1359, 1339, 1500, 1411, ...  "
      ]
     },
     "execution_count": 20,
     "metadata": {},
     "output_type": "execute_result"
    }
   ],
   "source": []
  },
  {
   "cell_type": "markdown",
   "metadata": {},
   "source": [
    "## distribution of mean dominance intervals"
   ]
  },
  {
   "cell_type": "code",
   "execution_count": 11,
   "metadata": {
    "collapsed": true
   },
   "outputs": [],
   "source": [
    "#create pandas series for each contrast imbalance value\n",
    "R0 = pd.Series(DOMINANCE_INTERVALS[0])\n",
    "R1 = pd.Series(DOMINANCE_INTERVALS[1])\n",
    "R2 = pd.Series(DOMINANCE_INTERVALS[2])\n",
    "R3 = pd.Series(DOMINANCE_INTERVALS[3])\n",
    "R4 = pd.Series(DOMINANCE_INTERVALS[4])\n",
    "\n",
    "#combine mean dominance intervals for both percepts\n",
    "d0_all = np.concatenate((R0.U1,R0.U2),axis=0)\n",
    "d1_all = np.concatenate((R1.U1,R1.U2),axis=0)\n",
    "d2_all = np.concatenate((R2.U1,R2.U2),axis=0)\n",
    "d3_all = np.concatenate((R3.U1,R3.U2),axis=0)\n",
    "d4_all = np.concatenate((R4.U1,R4.U2),axis=0)"
   ]
  },
  {
   "cell_type": "code",
   "execution_count": 12,
   "metadata": {},
   "outputs": [
    {
     "data": {
      "image/png": "[encoded data removed]",
      "text/plain": [
       "<matplotlib.figure.Figure at 0x111881b50>"
      ]
     },
     "metadata": {},
     "output_type": "display_data"
    }
   ],
   "source": [
    "b=15\n",
    "b2=10\n",
    "\n",
    "fig = plt.figure(figsize=(12,12))\n",
    "ax0 = fig.add_subplot(331)\n",
    "ax1 = fig.add_subplot(332)\n",
    "ax2 = fig.add_subplot(333)\n",
    "ax3 = fig.add_subplot(334)\n",
    "ax4 = fig.add_subplot(335)\n",
    "\n",
    "h0 = ax0.hist(d0_all,color='blue',bins=15,label='both')\n",
    "h0_u1 = ax0.hist(R0.U1,color='gray',bins=15,alpha=0.8,label='u1')\n",
    "h0_u2 = ax0.hist(R0.U2,color='white',bins=15,alpha=0.7,label='u2')\n",
    "\n",
    "h1 = ax1.hist(d1_all,color='red',label='both')\n",
    "h1_u1 = ax1.hist(R1.U1,color='gray',alpha=0.8,label='u1')\n",
    "h1_u2 = ax1.hist(R1.U2,color='white',alpha=0.7,label='u2')\n",
    "\n",
    "h2 = ax2.hist(d2_all,color='green',label='both')\n",
    "h2_u1 = ax2.hist(R2.U1,color='gray',alpha=0.8,label='u1')\n",
    "h2_u2 = ax2.hist(R2.U2,color='white',alpha=0.7,label='u2')\n",
    "\n",
    "h3 = ax3.hist(d3_all,color='orange',label='both')\n",
    "h3_u1 = ax3.hist(R3.U1,color='gray',alpha=0.8,label='u1')\n",
    "h3_u2 = ax3.hist(R3.U2,color='white',alpha=0.7,label='u2')\n",
    "\n",
    "h4 = ax4.hist(d4_all,color='purple',label='both')\n",
    "h4_u1 = ax4.hist(R4.U1,color='gray',alpha=0.8,label='u1')\n",
    "h4_u2 = ax4.hist(R4.U2,color='white',alpha=0.7,label='u2')\n",
    "\n",
    "ax0.set_xlim(500,2000)\n",
    "#ax1.set_xlim(0,6)\n",
    "#ax2.set_xlim(0,6)\n",
    "#ax3.set_xlim(0,6)\n",
    "#ax4.set_xlim(0,8)\n",
    "#ax0.set_ylim(0,100)\n",
    "#ax1.set_ylim(0,100)\n",
    "#ax2.set_ylim(0,100)\n",
    "#ax3.set_ylim(0,100)\n",
    "#ax4.set_ylim(0,100)\n",
    "\n",
    "ax0.legend()\n",
    "ax1.legend()\n",
    "ax2.legend()\n",
    "ax3.legend()\n",
    "ax4.legend()\n",
    "\n",
    "ax0.set_title('none')\n",
    "ax1.set_title('20.0% Contrast Imbalance')\n",
    "ax2.set_title('40.0% Contrast Imbalance')\n",
    "ax3.set_title('60.0% Contrast Imbalance')\n",
    "ax4.set_title('80.0% Contrast Imbalance')\n",
    "      \n",
    "fig.get_figure()\n",
    "fig.set_size_inches(14,14)\n",
    "#fig.savefig('/Users/carly/Desktop/possiblydone/05_domhist.png', dpi=100)"
   ]
  },
  {
   "cell_type": "code",
   "execution_count": 19,
   "metadata": {
    "collapsed": true
   },
   "outputs": [],
   "source": [
    "bindex = ['0%','20%','40%','60%','80%']"
   ]
  },
  {
   "cell_type": "code",
   "execution_count": 20,
   "metadata": {},
   "outputs": [
    {
     "data": {
      "image/png": "[encoded data removed]",
      "text/plain": [
       "<matplotlib.figure.Figure at 0x109474f50>"
      ]
     },
     "metadata": {},
     "output_type": "display_data"
    }
   ],
   "source": [
    "# data to plot\n",
    "n_groups = 5\n",
    "means_U1 = model_data['U1_MEAN']\n",
    "std_U1 = model_data['U1_STD']\n",
    "means_U2 = model_data['U2_MEAN']\n",
    "std_U2 = model_data['U2_STD']\n",
    "\n",
    "# create plot\n",
    "fig, ax = plt.subplots()\n",
    "index = np.arange(n_groups)\n",
    "bar_width = 0.35\n",
    "opacity = 0.8\n",
    " \n",
    "rects1 = plt.bar(index, means_U1, bar_width,\n",
    "                 alpha=opacity,\n",
    "                 color='blue',\n",
    "                 label='U1',\n",
    "                 yerr=std_U1)\n",
    " \n",
    "rects2 = plt.bar(index + bar_width, means_U2, bar_width,\n",
    "                 alpha=opacity,\n",
    "                 color='green',\n",
    "                 label='U2',\n",
    "                 yerr=std_U2)\n",
    " \n",
    "plt.xlabel('Contrast Imbalance')\n",
    "plt.ylabel('Dominance Duration (s)')\n",
    "plt.ylim(0,5)\n",
    "\n",
    "plt.title('Final theta - Mean Dominance Durations')\n",
    "plt.xticks(index + bar_width, bindex)\n",
    "plt.legend(loc=2)\n",
    " \n",
    "plt.tight_layout()\n",
    "fig = ax.get_figure()       \n",
    "fig.set_size_inches(8,4)\n",
    "\n",
    "#fig.savefig('/Users/carly/Desktop/possiblydone/05_modelmeantimesbar.png', dpi=100)"
   ]
  },
  {
   "cell_type": "code",
   "execution_count": 21,
   "metadata": {},
   "outputs": [
    {
     "data": {
      "image/png": "[encoded data removed]",
      "text/plain": [
       "<matplotlib.figure.Figure at 0x109474a90>"
      ]
     },
     "metadata": {},
     "output_type": "display_data"
    }
   ],
   "source": [
    "# data to plot\n",
    "n_groups = 5\n",
    "sy_U1 = syU1['MEAN']\n",
    "sySEM_U1 = syU1['SEM']\n",
    "sy_U2 = syU2['MEAN']\n",
    "sySEM_U2 = syU2['SEM']\n",
    " \n",
    "# create plot\n",
    "fig, ax = plt.subplots()\n",
    "index = np.arange(n_groups)\n",
    "bar_width = 0.35\n",
    "opacity = 0.8\n",
    " \n",
    "rects1 = plt.bar(index, sy_U1, bar_width,\n",
    "                 alpha=opacity,\n",
    "                 color='blue',\n",
    "                 label='U1',\n",
    "                 yerr=sySEM_U1)\n",
    " \n",
    "rects2 = plt.bar(index + bar_width, sy_U2, bar_width,\n",
    "                 alpha=opacity,\n",
    "                 color='green',\n",
    "                 label='U2',\n",
    "                 yerr=sySEM_U2)\n",
    " \n",
    "plt.xlabel('Contrast Imbalance')\n",
    "plt.ylabel('Dominance Duration (s)')\n",
    "plt.ylim(0,5)\n",
    "\n",
    "plt.title('DATA - Mean Dominance Durations')\n",
    "plt.xticks(index + bar_width, bindex)\n",
    "plt.legend(loc=2)\n",
    " \n",
    "plt.tight_layout()\n",
    "plt.show()\n",
    "fig = ax.get_figure()       \n",
    "fig.set_size_inches(8,4)\n",
    "\n",
    "#fig.savefig('DATA_meandomtimes.png', dpi=100)"
   ]
  },
  {
   "cell_type": "code",
   "execution_count": 27,
   "metadata": {},
   "outputs": [
    {
     "ename": "NameError",
     "evalue": "name 'syprob' is not defined",
     "output_type": "error",
     "traceback": [
      "\u001b[0;31m---------------------------------------------------------------------------\u001b[0m",
      "\u001b[0;31mNameError\u001b[0m                                 Traceback (most recent call last)",
      "\u001b[0;32m<ipython-input-27-9e8ef624a06d>\u001b[0m in \u001b[0;36m<module>\u001b[0;34m()\u001b[0m\n\u001b[0;32m----> 1\u001b[0;31m \u001b[0msyprob\u001b[0m\u001b[0;34m\u001b[0m\u001b[0m\n\u001b[0m",
      "\u001b[0;31mNameError\u001b[0m: name 'syprob' is not defined"
     ]
    }
   ],
   "source": [
    "syprob"
   ]
  },
  {
   "cell_type": "code",
   "execution_count": 65,
   "metadata": {},
   "outputs": [
    {
     "data": {
      "image/png": "[encoded data removed]",
      "text/plain": [
       "<matplotlib.figure.Figure at 0x10a8964d0>"
      ]
     },
     "metadata": {},
     "output_type": "display_data"
    }
   ],
   "source": [
    "# data to plot\n",
    "#probability and latency\n",
    "#\n",
    "n_groups = 5\n",
    "sy_U1 = syprob['MEAN']\n",
    "sySEM_U1 = syU1['SEM']\n",
    "sy_U2 = syU2['MEAN']\n",
    "sySEM_U2 = syU2['SEM']\n",
    " \n",
    "# create plot\n",
    "fig, ax = plt.subplots()\n",
    "index = np.arange(n_groups)\n",
    "bar_width = 0.35\n",
    "opacity = 0.8\n",
    " \n",
    "rects1 = plt.bar(index, sy_U1, bar_width,\n",
    "                 alpha=opacity,\n",
    "                 color='blue',\n",
    "                 label='U1',\n",
    "                 yerr=sySEM_U1)\n",
    " \n",
    "rects2 = plt.bar(index + bar_width, sy_U2, bar_width,\n",
    "                 alpha=opacity,\n",
    "                 color='green',\n",
    "                 label='U2',\n",
    "                 yerr=sySEM_U2)\n",
    " \n",
    "plt.xlabel('Contrast Imbalance')\n",
    "plt.ylabel('Dominance Duration (s)')\n",
    "plt.ylim(0,6)\n",
    "\n",
    "plt.title('DATA - Mean Dominance Durations')\n",
    "plt.xticks(index + bar_width, bindex)\n",
    "plt.legend(loc=2)\n",
    " \n",
    "plt.tight_layout()\n",
    "plt.show()\n",
    "fig = ax.get_figure()       \n",
    "fig.set_size_inches(8,4)\n",
    "\n",
    "#fig.savefig('DATA_meandomtimes.png', dpi=100)"
   ]
  },
  {
   "cell_type": "code",
   "execution_count": null,
   "metadata": {
    "collapsed": true
   },
   "outputs": [],
   "source": []
  }
 ],
 "metadata": {
  "kernelspec": {
   "display_name": "Python 2",
   "language": "python",
   "name": "python2"
  },
  "language_info": {
   "codemirror_mode": {
    "name": "ipython",
    "version": 2
   },
   "file_extension": ".py",
   "mimetype": "text/x-python",
   "name": "python",
   "nbconvert_exporter": "python",
   "pygments_lexer": "ipython2",
   "version": "2.7.13"
  }
 },
 "nbformat": 4,
 "nbformat_minor": 2
}
