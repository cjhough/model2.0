{
 "cells": [
  {
   "cell_type": "code",
   "execution_count": 1,
   "metadata": {
    "collapsed": true
   },
   "outputs": [],
   "source": [
    "import pandas as pd\n",
    "import rivalry as rv\n",
    "import matplotlib.pyplot as plt\n",
    "import numpy as np\n",
    "%matplotlib inline"
   ]
  },
  {
   "cell_type": "code",
   "execution_count": 3,
   "metadata": {
    "collapsed": true
   },
   "outputs": [],
   "source": [
    "#from initialparameters.txt\n",
    "p = {}\n",
    "p['beta']=1.42528\n",
    "p['alpha']=0\n",
    "p['gamma'] = 2.07703\n",
    "p['tau_a']=1248.0\n",
    "p['tau_u']=10\n",
    "p['sigma']=0.0419821\n",
    "p['mu']=0.9\n",
    "p['ks']=0.1918590\n",
    "p['kc']=0.00253604\n",
    "p['kb'] = 0.109369\n",
    "\n",
    "#S = [p[5] + p[6]*C;p[5] - p[6]*C;p[7]]"
   ]
  },
  {
   "cell_type": "code",
   "execution_count": 4,
   "metadata": {
    "collapsed": true
   },
   "outputs": [],
   "source": [
    "#ip = pd.Series(p)\n",
    "#ip.to_pickle('IP.pkl')\n",
    "#ip"
   ]
  },
  {
   "cell_type": "code",
   "execution_count": 2,
   "metadata": {
    "collapsed": true
   },
   "outputs": [],
   "source": [
    "p2 = pd.read_pickle('IP2.pkl')"
   ]
  },
  {
   "cell_type": "code",
   "execution_count": 15,
   "metadata": {},
   "outputs": [
    {
     "data": {
      "text/plain": [
       "alpha       0.000100\n",
       "beta        1.127209\n",
       "gamma       1.777396\n",
       "kb          0.100947\n",
       "kc          0.002921\n",
       "ks          0.228017\n",
       "mu          1.122287\n",
       "sigma       0.045653\n",
       "tau_a    1500.853819\n",
       "tau_u       8.940977\n",
       "Name: 173, dtype: float64"
      ]
     },
     "execution_count": 15,
     "metadata": {},
     "output_type": "execute_result"
    }
   ],
   "source": [
    "p2"
   ]
  },
  {
   "cell_type": "code",
   "execution_count": 3,
   "metadata": {
    "collapsed": true
   },
   "outputs": [],
   "source": [
    "tot=500000\n",
    "tpre=6000\n",
    "dt = 1"
   ]
  },
  {
   "cell_type": "code",
   "execution_count": 4,
   "metadata": {
    "collapsed": true
   },
   "outputs": [],
   "source": [
    "#unpack fixed parameters\n",
    "param = p2\n",
    "beta = param['beta']\n",
    "alpha = param['alpha']\n",
    "gamma = param['gamma']\n",
    "tau_a = param['tau_a']\n",
    "sigma = param['sigma']\n",
    "mu = param['mu']\n",
    "tau_u = param['tau_u']\n",
    "\n",
    "#input stimulus\n",
    "contrast = [0.0,1.0,2.0,3.0,4.0]\n",
    "r = contrast[4]\n",
    "ks = param['ks']\n",
    "kc = param['kc']\n",
    "kb = param['kb']\n",
    "k1 = rv.stimulus(ks,kc,r)\n",
    "k2 = rv.stimulus(ks,kc,-r)#weaker stimulus\n",
    "\n",
    "tf = tot\n",
    "equil = tpre\n",
    "totaltime= tf + equil\n",
    "\n",
    "#system variables\n",
    "U = np.random.uniform(0,1,(2,2))\n",
    "A = np.random.uniform(0,1,(2,1))\n",
    "Z = np.random.uniform(0,1,(2,1))\n",
    "\n",
    "u1 = []\n",
    "u2 = []\n",
    "a1 = []\n",
    "a2 = []\n",
    "z1 = []\n",
    "z2 = []\n",
    "t = []\n",
    "i=-1"
   ]
  },
  {
   "cell_type": "code",
   "execution_count": 5,
   "metadata": {},
   "outputs": [
    {
     "name": "stdout",
     "output_type": "stream",
     "text": [
      "[[ 0.78348854  0.33231867]\n",
      " [ 0.13753096  0.41278392]]\n",
      "[[ 0.4496436]\n",
      " [ 0.4529849]]\n",
      "[[ 0.14947877]\n",
      " [ 0.57204426]]\n"
     ]
    }
   ],
   "source": [
    "print U\n",
    "print A\n",
    "print Z"
   ]
  },
  {
   "cell_type": "code",
   "execution_count": 6,
   "metadata": {
    "collapsed": true
   },
   "outputs": [],
   "source": [
    "while i < totaltime:\n",
    "    i += 1\n",
    "    t.append(i*dt)\n",
    "    stim_on = int(equil<i)\n",
    "    S1 = k1*stim_on\n",
    "    S2 = k2*stim_on\n",
    "    Z[0,0] = Z[0,0] -dt*(Z[0,0] + np.sqrt(dt)*sigma*np.random.randn())\n",
    "    Z[1,0] = Z[1,0] -dt*(Z[1,0] + np.sqrt(dt)*sigma*np.random.randn())\n",
    "    \n",
    "    U[0,1] = U[0,0]+dt*(-U[0,0]+rv.gain_pl_sqrt(kb+S1 - beta*A[1,0]*U[1,0] +alpha*U[0,0] + Z[0,0]*(1+mu*U[0,0])))/tau_u\n",
    "    U[1,1] = U[1,0]+dt*(-U[1,0]+rv.gain_pl_sqrt(kb+S2 - beta*A[0,0]*U[0,0] +alpha*U[0,1] + Z[1,0]*(1+mu*U[1,0])))/tau_u\n",
    "    U[0,0] = U[0,1]\n",
    "    U[1,0] = U[1,1]\n",
    "\n",
    "    A[0,0] = A[0,0] + dt*(1 - A[0,0] - gamma*A[0,0]*U[0,0])/tau_a\n",
    "    A[1,0] = A[1,0] + dt*(1 - A[1,0] - gamma*A[1,0]*U[1,0])/tau_a\n",
    "\n",
    "    u1.append(U[0,0])\n",
    "    u2.append(U[1,0])\n",
    "    a1.append(A[0,0])\n",
    "    a2.append(A[1,0])\n",
    "    z1.append(Z[0,0])\n",
    "    z2.append(Z[1,0])"
   ]
  },
  {
   "cell_type": "code",
   "execution_count": 8,
   "metadata": {},
   "outputs": [
    {
     "data": {
      "image/png": "[encoded data removed]",
      "text/plain": [
       "<matplotlib.figure.Figure at 0x11b0178d0>"
      ]
     },
     "metadata": {},
     "output_type": "display_data"
    }
   ],
   "source": [
    "xmax=50000\n",
    "fig, axs = plt.subplots(3,1)\n",
    "axs[0].plot(t,u1,t,u2)\n",
    "axs[0].set_xlim(0,xmax)\n",
    "axs[1].plot(t,a1,t,a2)\n",
    "axs[1].set_xlim(0,xmax)\n",
    "axs[2].plot(t,z1,t,z2)\n",
    "axs[2].set_xlim(0,xmax)\n",
    "fig.tight_layout()"
   ]
  },
  {
   "cell_type": "code",
   "execution_count": 9,
   "metadata": {
    "collapsed": true
   },
   "outputs": [],
   "source": [
    "DOM1 = []\n",
    "DOM2 = []\n",
    "LEADER = []"
   ]
  },
  {
   "cell_type": "code",
   "execution_count": 10,
   "metadata": {
    "collapsed": true
   },
   "outputs": [],
   "source": [
    "td1 = rv.dominance(t,u1,u2,equil)\n",
    "td2 = rv.dominance(t,u2,u1,equil)\n",
    "\n",
    "DOM1.extend(td1)\n",
    "DOM2.extend(td2)\n",
    "\n",
    "TD1 = np.array(DOM1)\n",
    "TD2 = np.array(DOM2)"
   ]
  },
  {
   "cell_type": "code",
   "execution_count": null,
   "metadata": {
    "collapsed": true
   },
   "outputs": [],
   "source": []
  },
  {
   "cell_type": "code",
   "execution_count": 11,
   "metadata": {
    "collapsed": true
   },
   "outputs": [],
   "source": [
    "FINAL_DATA = {}\n",
    "#FINAL_DATA['FIRST_EPOCH_PROB'] = rv.prob_seq(LEADER,1)\n",
    "FINAL_DATA['MEAN_U1'] = np.mean(TD1)\n",
    "FINAL_DATA['MEAN_U2'] = np.mean(TD2)\n",
    "FINAL_DATA['SD_U1'] = np.std(TD1)\n",
    "FINAL_DATA['SD_U2'] = np.std(TD2)\n",
    "FINAL_DATA['CV_U1'] = FINAL_DATA['SD_U1']/FINAL_DATA['MEAN_U1']\n",
    "FINAL_DATA['CV_U2'] = FINAL_DATA['SD_U2']/FINAL_DATA['MEAN_U2']"
   ]
  },
  {
   "cell_type": "code",
   "execution_count": 12,
   "metadata": {},
   "outputs": [
    {
     "data": {
      "text/plain": [
       "{'CV_U1': 0.59016672355475308,\n",
       " 'CV_U2': 0.58597742349740389,\n",
       " 'MEAN_U1': 907.28481012658233,\n",
       " 'MEAN_U2': 657.41324921135651,\n",
       " 'SD_U1': 535.44930372340139,\n",
       " 'SD_U2': 385.22932194592738}"
      ]
     },
     "execution_count": 12,
     "metadata": {},
     "output_type": "execute_result"
    }
   ],
   "source": [
    "FINAL_DATA"
   ]
  },
  {
   "cell_type": "code",
   "execution_count": 13,
   "metadata": {
    "collapsed": true
   },
   "outputs": [],
   "source": [
    "import model as model"
   ]
  },
  {
   "cell_type": "code",
   "execution_count": 35,
   "metadata": {},
   "outputs": [
    {
     "name": "stdout",
     "output_type": "stream",
     "text": [
      "rivalry:warning: dom found < 3\n",
      "rivalry:warning: dom found < 3\n"
     ]
    }
   ],
   "source": [
    "#pmi = model.run(p,1,500)"
   ]
  },
  {
   "cell_type": "code",
   "execution_count": 14,
   "metadata": {
    "collapsed": true
   },
   "outputs": [],
   "source": [
    "pm2 = model.run(p2,1,100)"
   ]
  },
  {
   "cell_type": "code",
   "execution_count": 15,
   "metadata": {
    "collapsed": true
   },
   "outputs": [],
   "source": [
    "#pmi['CV_U1']=pmi['SD_U1']/pmi['MEAN_U1']\n",
    "#pmi['CV_U2']=pmi['SD_U2']/pmi['MEAN_U2']\n",
    "#pmi"
   ]
  },
  {
   "cell_type": "code",
   "execution_count": 16,
   "metadata": {},
   "outputs": [
    {
     "data": {
      "text/html": [
       "<div>\n",
       "<style>\n",
       "    .dataframe thead tr:only-child th {\n",
       "        text-align: right;\n",
       "    }\n",
       "\n",
       "    .dataframe thead th {\n",
       "        text-align: left;\n",
       "    }\n",
       "\n",
       "    .dataframe tbody tr th {\n",
       "        vertical-align: top;\n",
       "    }\n",
       "</style>\n",
       "<table border=\"1\" class=\"dataframe\">\n",
       "  <thead>\n",
       "    <tr style=\"text-align: right;\">\n",
       "      <th></th>\n",
       "      <th>COUNTS_U1</th>\n",
       "      <th>COUNTS_U2</th>\n",
       "      <th>FIRST_EPOCH_PROB_U1</th>\n",
       "      <th>FIRST_EPOCH_PROB_U2</th>\n",
       "      <th>MEAN_U1</th>\n",
       "      <th>MEAN_U2</th>\n",
       "      <th>SD_U1</th>\n",
       "      <th>SD_U2</th>\n",
       "      <th>CV_U1</th>\n",
       "      <th>CV_U2</th>\n",
       "    </tr>\n",
       "  </thead>\n",
       "  <tbody>\n",
       "    <tr>\n",
       "      <th>0</th>\n",
       "      <td>53.0</td>\n",
       "      <td>47.0</td>\n",
       "      <td>0.53</td>\n",
       "      <td>0.47</td>\n",
       "      <td>783.675079</td>\n",
       "      <td>779.665615</td>\n",
       "      <td>436.788428</td>\n",
       "      <td>434.741050</td>\n",
       "      <td>0.557359</td>\n",
       "      <td>0.557599</td>\n",
       "    </tr>\n",
       "    <tr>\n",
       "      <th>20</th>\n",
       "      <td>68.0</td>\n",
       "      <td>32.0</td>\n",
       "      <td>0.68</td>\n",
       "      <td>0.32</td>\n",
       "      <td>771.253731</td>\n",
       "      <td>715.250746</td>\n",
       "      <td>464.076484</td>\n",
       "      <td>430.793163</td>\n",
       "      <td>0.601717</td>\n",
       "      <td>0.602297</td>\n",
       "    </tr>\n",
       "    <tr>\n",
       "      <th>40</th>\n",
       "      <td>74.0</td>\n",
       "      <td>26.0</td>\n",
       "      <td>0.74</td>\n",
       "      <td>0.26</td>\n",
       "      <td>797.282738</td>\n",
       "      <td>679.623145</td>\n",
       "      <td>499.225293</td>\n",
       "      <td>422.425261</td>\n",
       "      <td>0.626158</td>\n",
       "      <td>0.621558</td>\n",
       "    </tr>\n",
       "    <tr>\n",
       "      <th>60</th>\n",
       "      <td>92.0</td>\n",
       "      <td>8.0</td>\n",
       "      <td>0.92</td>\n",
       "      <td>0.08</td>\n",
       "      <td>818.376471</td>\n",
       "      <td>639.105882</td>\n",
       "      <td>533.091080</td>\n",
       "      <td>415.519881</td>\n",
       "      <td>0.651401</td>\n",
       "      <td>0.650158</td>\n",
       "    </tr>\n",
       "    <tr>\n",
       "      <th>80</th>\n",
       "      <td>90.0</td>\n",
       "      <td>10.0</td>\n",
       "      <td>0.90</td>\n",
       "      <td>0.10</td>\n",
       "      <td>858.397015</td>\n",
       "      <td>619.719403</td>\n",
       "      <td>559.301116</td>\n",
       "      <td>401.001022</td>\n",
       "      <td>0.651565</td>\n",
       "      <td>0.647069</td>\n",
       "    </tr>\n",
       "  </tbody>\n",
       "</table>\n",
       "</div>"
      ],
      "text/plain": [
       "    COUNTS_U1  COUNTS_U2  FIRST_EPOCH_PROB_U1  FIRST_EPOCH_PROB_U2  \\\n",
       "0        53.0       47.0                 0.53                 0.47   \n",
       "20       68.0       32.0                 0.68                 0.32   \n",
       "40       74.0       26.0                 0.74                 0.26   \n",
       "60       92.0        8.0                 0.92                 0.08   \n",
       "80       90.0       10.0                 0.90                 0.10   \n",
       "\n",
       "       MEAN_U1     MEAN_U2       SD_U1       SD_U2     CV_U1     CV_U2  \n",
       "0   783.675079  779.665615  436.788428  434.741050  0.557359  0.557599  \n",
       "20  771.253731  715.250746  464.076484  430.793163  0.601717  0.602297  \n",
       "40  797.282738  679.623145  499.225293  422.425261  0.626158  0.621558  \n",
       "60  818.376471  639.105882  533.091080  415.519881  0.651401  0.650158  \n",
       "80  858.397015  619.719403  559.301116  401.001022  0.651565  0.647069  "
      ]
     },
     "execution_count": 16,
     "metadata": {},
     "output_type": "execute_result"
    }
   ],
   "source": [
    "pm2['CV_U1']=pm2['SD_U1']/pm2['MEAN_U1']\n",
    "pm2['CV_U2']=pm2['SD_U2']/pm2['MEAN_U2']\n",
    "pm2"
   ]
  },
  {
   "cell_type": "code",
   "execution_count": 17,
   "metadata": {},
   "outputs": [
    {
     "data": {
      "text/plain": [
       "alpha       0.000100\n",
       "beta        1.127209\n",
       "gamma       1.777396\n",
       "kb          0.100947\n",
       "kc          0.002921\n",
       "ks          0.228017\n",
       "mu          1.122287\n",
       "sigma       0.045653\n",
       "tau_a    1500.853819\n",
       "tau_u       8.940977\n",
       "Name: 173, dtype: float64"
      ]
     },
     "execution_count": 17,
     "metadata": {},
     "output_type": "execute_result"
    }
   ],
   "source": [
    "p2"
   ]
  },
  {
   "cell_type": "code",
   "execution_count": 22,
   "metadata": {},
   "outputs": [
    {
     "data": {
      "text/plain": [
       "25408.36"
      ]
     },
     "execution_count": 22,
     "metadata": {},
     "output_type": "execute_result"
    }
   ],
   "source": [
    "(797*0.2)**2"
   ]
  },
  {
   "cell_type": "code",
   "execution_count": null,
   "metadata": {
    "collapsed": true
   },
   "outputs": [],
   "source": []
  }
 ],
 "metadata": {
  "kernelspec": {
   "display_name": "Python 2",
   "language": "python",
   "name": "python2"
  },
  "language_info": {
   "codemirror_mode": {
    "name": "ipython",
    "version": 2
   },
   "file_extension": ".py",
   "mimetype": "text/x-python",
   "name": "python",
   "nbconvert_exporter": "python",
   "pygments_lexer": "ipython2",
   "version": "2.7.13"
  }
 },
 "nbformat": 4,
 "nbformat_minor": 2
}
