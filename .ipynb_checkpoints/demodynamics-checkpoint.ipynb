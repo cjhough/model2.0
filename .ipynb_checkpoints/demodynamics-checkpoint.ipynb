{
 "cells": [
  {
   "cell_type": "code",
   "execution_count": 1,
   "metadata": {},
   "outputs": [],
   "source": [
    "import rivalry as rv\n",
    "import matplotlib.pyplot as plt\n",
    "import numpy as np\n",
    "%matplotlib inline"
   ]
  },
  {
   "cell_type": "code",
   "execution_count": 20,
   "metadata": {},
   "outputs": [],
   "source": [
    "#from initialparameters.txt\n",
    "p = {}\n",
    "p['beta']=1.42528\n",
    "p['alpha']=0\n",
    "p['gamma'] = 2.07703\n",
    "p['tau_a']=1248.0\n",
    "p['tau_u']=10\n",
    "p['sigma']=0.0419821\n",
    "p['mu']=0.9\n",
    "p['ks']=0.1918590\n",
    "p['kc']=0.00253604\n",
    "p['kb'] = 0.109369\n",
    "\n",
    "#S = [p[5] + p[6]*C;p[5] - p[6]*C;p[7]]"
   ]
  },
  {
   "cell_type": "code",
   "execution_count": 15,
   "metadata": {},
   "outputs": [],
   "source": [
    "tot=200000\n",
    "tpre=0\n",
    "dt = 1"
   ]
  },
  {
   "cell_type": "code",
   "execution_count": 16,
   "metadata": {},
   "outputs": [],
   "source": [
    "#unpack fixed parameters\n",
    "param = p\n",
    "beta = param['beta']\n",
    "alpha = param['alpha']\n",
    "gamma = param['gamma']\n",
    "tau_a = param['tau_a']\n",
    "sigma = param['sigma']\n",
    "mu = param['mu']\n",
    "tau_u = param['tau_u']\n",
    "\n",
    "#input stimulus\n",
    "r=0.0\n",
    "ks = p['ks']\n",
    "kc = p['kc']\n",
    "kb = p['kb']\n",
    "k1 = rv.stimulus(ks,kc,r)\n",
    "k2 = rv.stimulus(ks,kc,-r)#weaker stimulus\n",
    "\n",
    "tf = tot\n",
    "equil = tpre\n",
    "totaltime= tf + equil\n",
    "\n",
    "#system variables\n",
    "U = np.random.uniform(0,1,(2,2))\n",
    "A = np.random.uniform(0,1,(2,1))\n",
    "Z = np.random.uniform(0,1,(2,1))\n",
    "\n",
    "u1 = []\n",
    "u2 = []\n",
    "a1 = []\n",
    "a2 = []\n",
    "z1 = []\n",
    "z2 = []\n",
    "t = []\n",
    "i=-1"
   ]
  },
  {
   "cell_type": "code",
   "execution_count": 17,
   "metadata": {},
   "outputs": [
    {
     "name": "stdout",
     "output_type": "stream",
     "text": [
      "[[ 0.3275396   0.53315085]\n",
      " [ 0.52814376  0.46725683]]\n",
      "[[ 0.64749909]\n",
      " [ 0.6339829 ]]\n",
      "[[ 0.20915012]\n",
      " [ 0.12996376]]\n"
     ]
    }
   ],
   "source": [
    "print U\n",
    "print A\n",
    "print Z"
   ]
  },
  {
   "cell_type": "code",
   "execution_count": 18,
   "metadata": {},
   "outputs": [],
   "source": [
    "while i < totaltime:\n",
    "    i += 1\n",
    "    t.append(i*dt)\n",
    "    stim_on = int(equil<i)\n",
    "    S1 = k1\n",
    "    S2 = k2\n",
    "    Z[0,0] = Z[0,0] -dt*(Z[0,0] + np.sqrt(dt)*sigma*np.random.randn())\n",
    "    Z[1,0] = Z[1,0] -dt*(Z[1,0] + np.sqrt(dt)*sigma*np.random.randn())\n",
    "    \n",
    "    U[0,1] = U[0,0]+dt*(-U[0,0]+rv.gain_pl_sqrt(kb+S1 - beta*A[0,0]*U[1,0] +alpha*U[0,0] + Z[0,0]*(1+mu*U[0,0])))/tau_u\n",
    "    U[1,1] = U[1,0]+dt*(-U[1,0]+rv.gain_pl_sqrt(kb+S2 - beta*A[1,0]*U[0,0] +alpha*U[0,1] + Z[1,0]*(1+mu*U[1,0])))/tau_u\n",
    "    U[0,0] = U[0,1]\n",
    "    U[1,0] = U[1,1]\n",
    "\n",
    "    A[0,0] = A[0,0] + dt*(1 - A[0,0] - gamma*A[0,0]*U[0,0])/tau_a\n",
    "    A[1,0] = A[1,0] + dt*(1 - A[1,0] - gamma*A[1,0]*U[1,0])/tau_a\n",
    "\n",
    "    u1.append(U[0,0])\n",
    "    u2.append(U[1,0])\n",
    "    a1.append(A[0,0])\n",
    "    a2.append(A[1,0])\n",
    "    z1.append(Z[0,0])\n",
    "    z2.append(Z[1,0])"
   ]
  },
  {
   "cell_type": "code",
   "execution_count": 19,
   "metadata": {},
   "outputs": [
    {
     "data": {
      "image/png": "[encoded data removed]",
      "text/plain": [
       "<matplotlib.figure.Figure at 0x1081e85d0>"
      ]
     },
     "metadata": {},
     "output_type": "display_data"
    }
   ],
   "source": [
    "xmax=len(t)\n",
    "fig, axs = plt.subplots(3,1)\n",
    "axs[0].plot(t,u1,t,u2)\n",
    "axs[0].set_xlim(0,xmax)\n",
    "axs[1].plot(t,a1,t,a2)\n",
    "axs[1].set_xlim(0,xmax)\n",
    "axs[2].plot(t,z1,t,z2)\n",
    "axs[2].set_xlim(0,xmax)\n",
    "fig.tight_layout()"
   ]
  },
  {
   "cell_type": "code",
   "execution_count": null,
   "metadata": {},
   "outputs": [],
   "source": []
  },
  {
   "cell_type": "code",
   "execution_count": null,
   "metadata": {},
   "outputs": [],
   "source": []
  }
 ],
 "metadata": {
  "kernelspec": {
   "display_name": "Python 2",
   "language": "python",
   "name": "python2"
  },
  "language_info": {
   "codemirror_mode": {
    "name": "ipython",
    "version": 2
   },
   "file_extension": ".py",
   "mimetype": "text/x-python",
   "name": "python",
   "nbconvert_exporter": "python",
   "pygments_lexer": "ipython2",
   "version": "2.7.13"
  }
 },
 "nbformat": 4,
 "nbformat_minor": 2
}
