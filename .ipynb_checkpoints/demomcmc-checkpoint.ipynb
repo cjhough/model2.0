{
 "cells": [
  {
   "cell_type": "markdown",
   "metadata": {},
   "source": [
    "## demo mcmc"
   ]
  },
  {
   "cell_type": "code",
   "execution_count": 1,
   "metadata": {},
   "outputs": [],
   "source": [
    "import pandas as pd\n",
    "import numpy as np\n",
    "import matplotlib.pyplot as plt\n",
    "import model as model\n",
    "\n",
    "%matplotlib inline"
   ]
  },
  {
   "cell_type": "markdown",
   "metadata": {},
   "source": [
    "## define functions and constants"
   ]
  },
  {
   "cell_type": "code",
   "execution_count": 2,
   "metadata": {
    "collapsed": true
   },
   "outputs": [],
   "source": [
    "def newtheta(theta):\n",
    "    a = 0.05\n",
    "    fa = lambda x:x + a*x*np.random.randn()\n",
    "    current = theta\n",
    "    #newkc = mapkc(current.KC.copy())\n",
    "    #newsig = mapkc(current.sig.copy())\n",
    "    proposed = current.map(fa)\n",
    "    #proposed = current.drop(['KC','sig']).map(fa)\n",
    "    #proposed['KC']=newkc\n",
    "    #proposed['sigma']=newsig\n",
    "    return proposed"
   ]
  },
  {
   "cell_type": "code",
   "execution_count": 3,
   "metadata": {
    "collapsed": true
   },
   "outputs": [],
   "source": [
    "def chisq(data,model,variance):\n",
    "    d = data\n",
    "    m = model\n",
    "    v = variance\n",
    "\n",
    "    #for first epoch probability\n",
    "    fmax = lambda x:(max(x,0.001)**2)\n",
    "    N1 = m['COUNTS_U1']\n",
    "    x1 = (m['FIRST_EPOCH_PROB_U1']-d['FIRST_EPOCH_PROB_U1'])**2\n",
    "    s1 = m['FIRST_EPOCH_PROB_U1'].map(fmax)\n",
    "    N2 = m['COUNTS_U2']\n",
    "    x2 = (m['FIRST_EPOCH_PROB_U2']-d['FIRST_EPOCH_PROB_U2'])**2\n",
    "    s2 = m['FIRST_EPOCH_PROB_U2'].map(fmax)\n",
    "\n",
    "    #other chi's follow form: chi = ((d-m)**2)/(v**2)\n",
    "    chi = pd.DataFrame()\n",
    "    chi['FIRST_EPOCH_PROB_U1'] = (N1*(x1/s1) + N2*(x2/s2))\n",
    "    chi['MEAN_U1'] = ((m['MEAN_U1']-d['MEAN_U1'])**2)/(v['MEAN_U1']**2)\n",
    "    chi['MEAN_U2'] = ((m['MEAN_U2']-d['MEAN_U2'])**2)/(v['MEAN_U2']**2)\n",
    "    chi['SD_U1'] = ((m['SD_U1']-d['SD_U1'])**2)/(v['SD_U1']**2)\n",
    "    chi['SD_U2'] = ((m['SD_U2']-d['SD_U2'])**2)/(v['SD_U2']**2)\n",
    "\n",
    "    return chi"
   ]
  },
  {
   "cell_type": "code",
   "execution_count": 4,
   "metadata": {
    "collapsed": true
   },
   "outputs": [],
   "source": [
    "def chisum(df):\n",
    "    #return scalar\n",
    "    one = df.sum(axis=0)\n",
    "    two = one.sum(0)\n",
    "    return two"
   ]
  },
  {
   "cell_type": "code",
   "execution_count": 5,
   "metadata": {
    "collapsed": true
   },
   "outputs": [],
   "source": [
    "def taupen(tau_a):\n",
    "    penalty = (tau_a-2)**2\n",
    "    return penalty\n",
    "\n",
    "def kpen(ks,kc):\n",
    "    delta = 0\n",
    "    pen = delta*(ks + kc)**2\n",
    "    return pen"
   ]
  },
  {
   "cell_type": "code",
   "execution_count": 23,
   "metadata": {
    "collapsed": true
   },
   "outputs": [],
   "source": [
    "index = [0,20,40,60,80]\n",
    "cv = 0.6\n",
    "cv_var = 0.2\n",
    "p1_var = 0.1\n",
    "fcv = lambda x: x*cv\n",
    "fcv_var = lambda x:(x*cv_var)\n",
    "fp1_var = lambda x:(x*p1_var)"
   ]
  },
  {
   "cell_type": "markdown",
   "metadata": {},
   "source": [
    "## load data"
   ]
  },
  {
   "cell_type": "code",
   "execution_count": 7,
   "metadata": {
    "collapsed": true
   },
   "outputs": [],
   "source": [
    "syprob = pd.read_csv('sy_prob.csv',index_col=0)\n",
    "syU1 = pd.read_csv('syU1.csv',index_col=0)\n",
    "syU2 = pd.read_csv('syU2.csv',index_col=0)"
   ]
  },
  {
   "cell_type": "markdown",
   "metadata": {},
   "source": [
    "## construct dataframe of data"
   ]
  },
  {
   "cell_type": "code",
   "execution_count": 8,
   "metadata": {
    "collapsed": true
   },
   "outputs": [],
   "source": [
    "data = pd.DataFrame()\n",
    "data['COUNTS_U1'] = syprob['counts_U1']\n",
    "data['COUNTS_U2'] = syprob['counts_U2']\n",
    "data['FIRST_EPOCH_PROB_U1'] = syprob['U1']\n",
    "data['FIRST_EPOCH_PROB_U2'] = syprob['U2']\n",
    "data['MEAN_U1'] = syU1['MEAN']\n",
    "data['MEAN_U2'] = syU2['MEAN']\n",
    "data['SD_U1'] = data['MEAN_U1'].map(fcv)\n",
    "data['SD_U2'] = data['MEAN_U2'].map(fcv)\n",
    "data.index=index\n",
    "col = data.columns"
   ]
  },
  {
   "cell_type": "code",
   "execution_count": 9,
   "metadata": {},
   "outputs": [
    {
     "data": {
      "text/html": [
       "<div>\n",
       "<style>\n",
       "    .dataframe thead tr:only-child th {\n",
       "        text-align: right;\n",
       "    }\n",
       "\n",
       "    .dataframe thead th {\n",
       "        text-align: left;\n",
       "    }\n",
       "\n",
       "    .dataframe tbody tr th {\n",
       "        vertical-align: top;\n",
       "    }\n",
       "</style>\n",
       "<table border=\"1\" class=\"dataframe\">\n",
       "  <thead>\n",
       "    <tr style=\"text-align: right;\">\n",
       "      <th></th>\n",
       "      <th>COUNTS_U1</th>\n",
       "      <th>COUNTS_U2</th>\n",
       "      <th>FIRST_EPOCH_PROB_U1</th>\n",
       "      <th>FIRST_EPOCH_PROB_U2</th>\n",
       "      <th>MEAN_U1</th>\n",
       "      <th>MEAN_U2</th>\n",
       "      <th>SD_U1</th>\n",
       "      <th>SD_U2</th>\n",
       "    </tr>\n",
       "  </thead>\n",
       "  <tbody>\n",
       "    <tr>\n",
       "      <th>0</th>\n",
       "      <td>50</td>\n",
       "      <td>50</td>\n",
       "      <td>0.50</td>\n",
       "      <td>0.50</td>\n",
       "      <td>1800.0</td>\n",
       "      <td>1700.0</td>\n",
       "      <td>1080.0</td>\n",
       "      <td>1020.0</td>\n",
       "    </tr>\n",
       "    <tr>\n",
       "      <th>20</th>\n",
       "      <td>95</td>\n",
       "      <td>5</td>\n",
       "      <td>0.95</td>\n",
       "      <td>0.05</td>\n",
       "      <td>1900.0</td>\n",
       "      <td>1700.0</td>\n",
       "      <td>1140.0</td>\n",
       "      <td>1020.0</td>\n",
       "    </tr>\n",
       "    <tr>\n",
       "      <th>40</th>\n",
       "      <td>99</td>\n",
       "      <td>1</td>\n",
       "      <td>0.99</td>\n",
       "      <td>0.01</td>\n",
       "      <td>2200.0</td>\n",
       "      <td>1700.0</td>\n",
       "      <td>1320.0</td>\n",
       "      <td>1020.0</td>\n",
       "    </tr>\n",
       "    <tr>\n",
       "      <th>60</th>\n",
       "      <td>100</td>\n",
       "      <td>0</td>\n",
       "      <td>1.00</td>\n",
       "      <td>0.00</td>\n",
       "      <td>2700.0</td>\n",
       "      <td>1700.0</td>\n",
       "      <td>1620.0</td>\n",
       "      <td>1020.0</td>\n",
       "    </tr>\n",
       "    <tr>\n",
       "      <th>80</th>\n",
       "      <td>100</td>\n",
       "      <td>0</td>\n",
       "      <td>1.00</td>\n",
       "      <td>0.00</td>\n",
       "      <td>3200.0</td>\n",
       "      <td>1700.0</td>\n",
       "      <td>1920.0</td>\n",
       "      <td>1020.0</td>\n",
       "    </tr>\n",
       "  </tbody>\n",
       "</table>\n",
       "</div>"
      ],
      "text/plain": [
       "    COUNTS_U1  COUNTS_U2  FIRST_EPOCH_PROB_U1  FIRST_EPOCH_PROB_U2  MEAN_U1  \\\n",
       "0          50         50                 0.50                 0.50   1800.0   \n",
       "20         95          5                 0.95                 0.05   1900.0   \n",
       "40         99          1                 0.99                 0.01   2200.0   \n",
       "60        100          0                 1.00                 0.00   2700.0   \n",
       "80        100          0                 1.00                 0.00   3200.0   \n",
       "\n",
       "    MEAN_U2   SD_U1   SD_U2  \n",
       "0    1700.0  1080.0  1020.0  \n",
       "20   1700.0  1140.0  1020.0  \n",
       "40   1700.0  1320.0  1020.0  \n",
       "60   1700.0  1620.0  1020.0  \n",
       "80   1700.0  1920.0  1020.0  "
      ]
     },
     "execution_count": 9,
     "metadata": {},
     "output_type": "execute_result"
    }
   ],
   "source": [
    "data"
   ]
  },
  {
   "cell_type": "markdown",
   "metadata": {},
   "source": [
    "## calculate error and make dataframe from data"
   ]
  },
  {
   "cell_type": "code",
   "execution_count": 10,
   "metadata": {
    "collapsed": true
   },
   "outputs": [],
   "source": [
    "variance = pd.DataFrame()\n",
    "variance['COUNTS_U1'] = data['COUNTS_U1'].map(fp1_var)\n",
    "variance['COUNTS_U2'] = data['COUNTS_U2'].map(fp1_var)\n",
    "variance['FIRST_EPOCH_PROB_U1'] = data['FIRST_EPOCH_PROB_U1'].map(fp1_var)\n",
    "variance['FIRST_EPOCH_PROB_U2'] = data['FIRST_EPOCH_PROB_U2'].map(fp1_var)\n",
    "variance['MEAN_U1'] = data['MEAN_U1'].map(fcv_var)\n",
    "variance['MEAN_U2'] = data['MEAN_U2'].map(fcv_var)\n",
    "variance['SD_U1'] = data['SD_U1'].map(fcv_var)\n",
    "variance['SD_U2'] = data['SD_U2'].map(fcv_var)\n",
    "variance.index = index\n",
    "variance.columns = col"
   ]
  },
  {
   "cell_type": "code",
   "execution_count": 11,
   "metadata": {},
   "outputs": [
    {
     "data": {
      "text/html": [
       "<div>\n",
       "<style>\n",
       "    .dataframe thead tr:only-child th {\n",
       "        text-align: right;\n",
       "    }\n",
       "\n",
       "    .dataframe thead th {\n",
       "        text-align: left;\n",
       "    }\n",
       "\n",
       "    .dataframe tbody tr th {\n",
       "        vertical-align: top;\n",
       "    }\n",
       "</style>\n",
       "<table border=\"1\" class=\"dataframe\">\n",
       "  <thead>\n",
       "    <tr style=\"text-align: right;\">\n",
       "      <th></th>\n",
       "      <th>COUNTS_U1</th>\n",
       "      <th>COUNTS_U2</th>\n",
       "      <th>FIRST_EPOCH_PROB_U1</th>\n",
       "      <th>FIRST_EPOCH_PROB_U2</th>\n",
       "      <th>MEAN_U1</th>\n",
       "      <th>MEAN_U2</th>\n",
       "      <th>SD_U1</th>\n",
       "      <th>SD_U2</th>\n",
       "    </tr>\n",
       "  </thead>\n",
       "  <tbody>\n",
       "    <tr>\n",
       "      <th>0</th>\n",
       "      <td>5.0</td>\n",
       "      <td>5.0</td>\n",
       "      <td>0.050</td>\n",
       "      <td>0.050</td>\n",
       "      <td>450.0</td>\n",
       "      <td>425.0</td>\n",
       "      <td>270.0</td>\n",
       "      <td>255.0</td>\n",
       "    </tr>\n",
       "    <tr>\n",
       "      <th>20</th>\n",
       "      <td>9.5</td>\n",
       "      <td>0.5</td>\n",
       "      <td>0.095</td>\n",
       "      <td>0.005</td>\n",
       "      <td>475.0</td>\n",
       "      <td>425.0</td>\n",
       "      <td>285.0</td>\n",
       "      <td>255.0</td>\n",
       "    </tr>\n",
       "    <tr>\n",
       "      <th>40</th>\n",
       "      <td>9.9</td>\n",
       "      <td>0.1</td>\n",
       "      <td>0.099</td>\n",
       "      <td>0.001</td>\n",
       "      <td>550.0</td>\n",
       "      <td>425.0</td>\n",
       "      <td>330.0</td>\n",
       "      <td>255.0</td>\n",
       "    </tr>\n",
       "    <tr>\n",
       "      <th>60</th>\n",
       "      <td>10.0</td>\n",
       "      <td>0.0</td>\n",
       "      <td>0.100</td>\n",
       "      <td>0.000</td>\n",
       "      <td>675.0</td>\n",
       "      <td>425.0</td>\n",
       "      <td>405.0</td>\n",
       "      <td>255.0</td>\n",
       "    </tr>\n",
       "    <tr>\n",
       "      <th>80</th>\n",
       "      <td>10.0</td>\n",
       "      <td>0.0</td>\n",
       "      <td>0.100</td>\n",
       "      <td>0.000</td>\n",
       "      <td>800.0</td>\n",
       "      <td>425.0</td>\n",
       "      <td>480.0</td>\n",
       "      <td>255.0</td>\n",
       "    </tr>\n",
       "  </tbody>\n",
       "</table>\n",
       "</div>"
      ],
      "text/plain": [
       "    COUNTS_U1  COUNTS_U2  FIRST_EPOCH_PROB_U1  FIRST_EPOCH_PROB_U2  MEAN_U1  \\\n",
       "0         5.0        5.0                0.050                0.050    450.0   \n",
       "20        9.5        0.5                0.095                0.005    475.0   \n",
       "40        9.9        0.1                0.099                0.001    550.0   \n",
       "60       10.0        0.0                0.100                0.000    675.0   \n",
       "80       10.0        0.0                0.100                0.000    800.0   \n",
       "\n",
       "    MEAN_U2  SD_U1  SD_U2  \n",
       "0     425.0  270.0  255.0  \n",
       "20    425.0  285.0  255.0  \n",
       "40    425.0  330.0  255.0  \n",
       "60    425.0  405.0  255.0  \n",
       "80    425.0  480.0  255.0  "
      ]
     },
     "execution_count": 11,
     "metadata": {},
     "output_type": "execute_result"
    }
   ],
   "source": [
    "variance"
   ]
  },
  {
   "cell_type": "code",
   "execution_count": null,
   "metadata": {
    "collapsed": true
   },
   "outputs": [],
   "source": []
  },
  {
   "cell_type": "markdown",
   "metadata": {},
   "source": [
    "### load initial parameters"
   ]
  },
  {
   "cell_type": "code",
   "execution_count": 12,
   "metadata": {},
   "outputs": [
    {
     "name": "stdout",
     "output_type": "stream",
     "text": [
      "README.md            couperin.pkl         modelequations2.0.py\r\n",
      "Rivalry.jl           demodynamics.ipynb   rivalry.py\r\n",
      "bach.pkl             demomcmc.ipynb       rivalry.pyc\r\n",
      "barber.pkl           demomodel.ipynb      \u001b[34mstoreresults\u001b[m\u001b[m\r\n",
      "beethoven.pkl        \u001b[34minitials\u001b[m\u001b[m             syU1.csv\r\n",
      "bizet.pkl            mcmc.py              syU2.csv\r\n",
      "brahms.pkl           mcmc.pyc             sy_bias.csv\r\n",
      "bruch.pkl            model.py             sy_prob.csv\r\n",
      "chopin.pkl           model.pyc            \u001b[34mtemp\u001b[m\u001b[m\r\n"
     ]
    }
   ],
   "source": [
    "!ls"
   ]
  },
  {
   "cell_type": "code",
   "execution_count": 24,
   "metadata": {},
   "outputs": [
    {
     "data": {
      "text/plain": [
       "alpha       0.000114\n",
       "beta        0.938066\n",
       "gamma       1.053626\n",
       "kb          0.128695\n",
       "kc          0.005298\n",
       "ks          0.206230\n",
       "mu          1.187046\n",
       "sigma       0.030758\n",
       "tau_a    1694.962846\n",
       "tau_u       8.100646\n",
       "Name: 26, dtype: float64"
      ]
     },
     "execution_count": 24,
     "metadata": {},
     "output_type": "execute_result"
    }
   ],
   "source": [
    "initial = pd.read_pickle('brahms.pkl')\n",
    "initial"
   ]
  },
  {
   "cell_type": "code",
   "execution_count": 25,
   "metadata": {
    "collapsed": true
   },
   "outputs": [],
   "source": [
    "theta_cur = initial\n",
    "theta_prop = newtheta(theta_cur)"
   ]
  },
  {
   "cell_type": "code",
   "execution_count": 26,
   "metadata": {},
   "outputs": [
    {
     "name": "stdout",
     "output_type": "stream",
     "text": [
      "alpha       0.000114\n",
      "beta        0.938066\n",
      "gamma       1.053626\n",
      "kb          0.128695\n",
      "kc          0.005298\n",
      "ks          0.206230\n",
      "mu          1.187046\n",
      "sigma       0.030758\n",
      "tau_a    1694.962846\n",
      "tau_u       8.100646\n",
      "Name: 26, dtype: float64\n",
      "alpha       0.000115\n",
      "beta        0.990621\n",
      "gamma       1.162190\n",
      "kb          0.130449\n",
      "kc          0.005275\n",
      "ks          0.219655\n",
      "mu          1.254226\n",
      "sigma       0.032759\n",
      "tau_a    1848.660894\n",
      "tau_u       7.642105\n",
      "Name: 26, dtype: float64\n"
     ]
    }
   ],
   "source": [
    "print theta_cur\n",
    "print theta_prop"
   ]
  },
  {
   "cell_type": "markdown",
   "metadata": {},
   "source": [
    "## run model with current and proposed theta values"
   ]
  },
  {
   "cell_type": "code",
   "execution_count": 27,
   "metadata": {
    "collapsed": true
   },
   "outputs": [],
   "source": [
    "#trials\n",
    "dominance = 1\n",
    "firstprob = 200"
   ]
  },
  {
   "cell_type": "code",
   "execution_count": 28,
   "metadata": {
    "collapsed": true
   },
   "outputs": [],
   "source": [
    "m1 = model.run(theta_cur,dominance,firstprob)"
   ]
  },
  {
   "cell_type": "code",
   "execution_count": 46,
   "metadata": {},
   "outputs": [],
   "source": [
    "#m2 = model.run(theta_prop,dominance,firstprob)"
   ]
  },
  {
   "cell_type": "code",
   "execution_count": 29,
   "metadata": {},
   "outputs": [
    {
     "data": {
      "text/html": [
       "<div>\n",
       "<style>\n",
       "    .dataframe thead tr:only-child th {\n",
       "        text-align: right;\n",
       "    }\n",
       "\n",
       "    .dataframe thead th {\n",
       "        text-align: left;\n",
       "    }\n",
       "\n",
       "    .dataframe tbody tr th {\n",
       "        vertical-align: top;\n",
       "    }\n",
       "</style>\n",
       "<table border=\"1\" class=\"dataframe\">\n",
       "  <thead>\n",
       "    <tr style=\"text-align: right;\">\n",
       "      <th></th>\n",
       "      <th>COUNTS_U1</th>\n",
       "      <th>COUNTS_U2</th>\n",
       "      <th>FIRST_EPOCH_PROB_U1</th>\n",
       "      <th>FIRST_EPOCH_PROB_U2</th>\n",
       "      <th>MEAN_U1</th>\n",
       "      <th>MEAN_U2</th>\n",
       "      <th>SD_U1</th>\n",
       "      <th>SD_U2</th>\n",
       "    </tr>\n",
       "  </thead>\n",
       "  <tbody>\n",
       "    <tr>\n",
       "      <th>0</th>\n",
       "      <td>92.0</td>\n",
       "      <td>108.0</td>\n",
       "      <td>0.460</td>\n",
       "      <td>0.540</td>\n",
       "      <td>1079.475162</td>\n",
       "      <td>1069.030303</td>\n",
       "      <td>625.833270</td>\n",
       "      <td>620.896265</td>\n",
       "    </tr>\n",
       "    <tr>\n",
       "      <th>20</th>\n",
       "      <td>167.0</td>\n",
       "      <td>33.0</td>\n",
       "      <td>0.835</td>\n",
       "      <td>0.165</td>\n",
       "      <td>1233.102450</td>\n",
       "      <td>982.685969</td>\n",
       "      <td>699.040525</td>\n",
       "      <td>549.416481</td>\n",
       "    </tr>\n",
       "    <tr>\n",
       "      <th>40</th>\n",
       "      <td>198.0</td>\n",
       "      <td>2.0</td>\n",
       "      <td>0.990</td>\n",
       "      <td>0.010</td>\n",
       "      <td>1387.267574</td>\n",
       "      <td>869.092971</td>\n",
       "      <td>836.230830</td>\n",
       "      <td>517.920828</td>\n",
       "    </tr>\n",
       "    <tr>\n",
       "      <th>60</th>\n",
       "      <td>199.0</td>\n",
       "      <td>1.0</td>\n",
       "      <td>0.995</td>\n",
       "      <td>0.005</td>\n",
       "      <td>1746.169231</td>\n",
       "      <td>802.835897</td>\n",
       "      <td>1018.101203</td>\n",
       "      <td>458.835230</td>\n",
       "    </tr>\n",
       "    <tr>\n",
       "      <th>80</th>\n",
       "      <td>200.0</td>\n",
       "      <td>0.0</td>\n",
       "      <td>1.000</td>\n",
       "      <td>0.000</td>\n",
       "      <td>2343.560748</td>\n",
       "      <td>735.352025</td>\n",
       "      <td>1493.593005</td>\n",
       "      <td>430.820283</td>\n",
       "    </tr>\n",
       "  </tbody>\n",
       "</table>\n",
       "</div>"
      ],
      "text/plain": [
       "    COUNTS_U1  COUNTS_U2  FIRST_EPOCH_PROB_U1  FIRST_EPOCH_PROB_U2  \\\n",
       "0        92.0      108.0                0.460                0.540   \n",
       "20      167.0       33.0                0.835                0.165   \n",
       "40      198.0        2.0                0.990                0.010   \n",
       "60      199.0        1.0                0.995                0.005   \n",
       "80      200.0        0.0                1.000                0.000   \n",
       "\n",
       "        MEAN_U1      MEAN_U2        SD_U1       SD_U2  \n",
       "0   1079.475162  1069.030303   625.833270  620.896265  \n",
       "20  1233.102450   982.685969   699.040525  549.416481  \n",
       "40  1387.267574   869.092971   836.230830  517.920828  \n",
       "60  1746.169231   802.835897  1018.101203  458.835230  \n",
       "80  2343.560748   735.352025  1493.593005  430.820283  "
      ]
     },
     "execution_count": 29,
     "metadata": {},
     "output_type": "execute_result"
    }
   ],
   "source": [
    "m1.index = index\n",
    "m1.columns = col\n",
    "m1"
   ]
  },
  {
   "cell_type": "code",
   "execution_count": 32,
   "metadata": {},
   "outputs": [
    {
     "data": {
      "text/html": [
       "<div>\n",
       "<style>\n",
       "    .dataframe thead tr:only-child th {\n",
       "        text-align: right;\n",
       "    }\n",
       "\n",
       "    .dataframe thead th {\n",
       "        text-align: left;\n",
       "    }\n",
       "\n",
       "    .dataframe tbody tr th {\n",
       "        vertical-align: top;\n",
       "    }\n",
       "</style>\n",
       "<table border=\"1\" class=\"dataframe\">\n",
       "  <thead>\n",
       "    <tr style=\"text-align: right;\">\n",
       "      <th></th>\n",
       "      <th>COUNTS_U1</th>\n",
       "      <th>COUNTS_U2</th>\n",
       "      <th>FIRST_EPOCH_PROB_U1</th>\n",
       "      <th>FIRST_EPOCH_PROB_U2</th>\n",
       "      <th>MEAN_U1</th>\n",
       "      <th>MEAN_U2</th>\n",
       "      <th>SD_U1</th>\n",
       "      <th>SD_U2</th>\n",
       "      <th>CV U1</th>\n",
       "      <th>CV U2</th>\n",
       "    </tr>\n",
       "  </thead>\n",
       "  <tbody>\n",
       "    <tr>\n",
       "      <th>0</th>\n",
       "      <td>92.0</td>\n",
       "      <td>108.0</td>\n",
       "      <td>0.460</td>\n",
       "      <td>0.540</td>\n",
       "      <td>1079.475162</td>\n",
       "      <td>1069.030303</td>\n",
       "      <td>625.833270</td>\n",
       "      <td>620.896265</td>\n",
       "      <td>0.579757</td>\n",
       "      <td>0.580803</td>\n",
       "    </tr>\n",
       "    <tr>\n",
       "      <th>20</th>\n",
       "      <td>167.0</td>\n",
       "      <td>33.0</td>\n",
       "      <td>0.835</td>\n",
       "      <td>0.165</td>\n",
       "      <td>1233.102450</td>\n",
       "      <td>982.685969</td>\n",
       "      <td>699.040525</td>\n",
       "      <td>549.416481</td>\n",
       "      <td>0.566896</td>\n",
       "      <td>0.559097</td>\n",
       "    </tr>\n",
       "    <tr>\n",
       "      <th>40</th>\n",
       "      <td>198.0</td>\n",
       "      <td>2.0</td>\n",
       "      <td>0.990</td>\n",
       "      <td>0.010</td>\n",
       "      <td>1387.267574</td>\n",
       "      <td>869.092971</td>\n",
       "      <td>836.230830</td>\n",
       "      <td>517.920828</td>\n",
       "      <td>0.602790</td>\n",
       "      <td>0.595933</td>\n",
       "    </tr>\n",
       "    <tr>\n",
       "      <th>60</th>\n",
       "      <td>199.0</td>\n",
       "      <td>1.0</td>\n",
       "      <td>0.995</td>\n",
       "      <td>0.005</td>\n",
       "      <td>1746.169231</td>\n",
       "      <td>802.835897</td>\n",
       "      <td>1018.101203</td>\n",
       "      <td>458.835230</td>\n",
       "      <td>0.583048</td>\n",
       "      <td>0.571518</td>\n",
       "    </tr>\n",
       "    <tr>\n",
       "      <th>80</th>\n",
       "      <td>200.0</td>\n",
       "      <td>0.0</td>\n",
       "      <td>1.000</td>\n",
       "      <td>0.000</td>\n",
       "      <td>2343.560748</td>\n",
       "      <td>735.352025</td>\n",
       "      <td>1493.593005</td>\n",
       "      <td>430.820283</td>\n",
       "      <td>0.637318</td>\n",
       "      <td>0.585869</td>\n",
       "    </tr>\n",
       "  </tbody>\n",
       "</table>\n",
       "</div>"
      ],
      "text/plain": [
       "    COUNTS_U1  COUNTS_U2  FIRST_EPOCH_PROB_U1  FIRST_EPOCH_PROB_U2  \\\n",
       "0        92.0      108.0                0.460                0.540   \n",
       "20      167.0       33.0                0.835                0.165   \n",
       "40      198.0        2.0                0.990                0.010   \n",
       "60      199.0        1.0                0.995                0.005   \n",
       "80      200.0        0.0                1.000                0.000   \n",
       "\n",
       "        MEAN_U1      MEAN_U2        SD_U1       SD_U2     CV U1     CV U2  \n",
       "0   1079.475162  1069.030303   625.833270  620.896265  0.579757  0.580803  \n",
       "20  1233.102450   982.685969   699.040525  549.416481  0.566896  0.559097  \n",
       "40  1387.267574   869.092971   836.230830  517.920828  0.602790  0.595933  \n",
       "60  1746.169231   802.835897  1018.101203  458.835230  0.583048  0.571518  \n",
       "80  2343.560748   735.352025  1493.593005  430.820283  0.637318  0.585869  "
      ]
     },
     "execution_count": 32,
     "metadata": {},
     "output_type": "execute_result"
    }
   ],
   "source": [
    "m1['CV U1'] = m1['SD_U1']/m1['MEAN_U1']\n",
    "m1['CV U2'] = m1['SD_U2']/m1['MEAN_U2']\n",
    "m1"
   ]
  },
  {
   "cell_type": "code",
   "execution_count": 45,
   "metadata": {},
   "outputs": [
    {
     "data": {
      "text/html": [
       "<div>\n",
       "<style>\n",
       "    .dataframe thead tr:only-child th {\n",
       "        text-align: right;\n",
       "    }\n",
       "\n",
       "    .dataframe thead th {\n",
       "        text-align: left;\n",
       "    }\n",
       "\n",
       "    .dataframe tbody tr th {\n",
       "        vertical-align: top;\n",
       "    }\n",
       "</style>\n",
       "<table border=\"1\" class=\"dataframe\">\n",
       "  <thead>\n",
       "    <tr style=\"text-align: right;\">\n",
       "      <th></th>\n",
       "      <th>COUNTS_U1</th>\n",
       "      <th>COUNTS_U2</th>\n",
       "      <th>FIRST_EPOCH_PROB_U1</th>\n",
       "      <th>FIRST_EPOCH_PROB_U2</th>\n",
       "      <th>MEAN_U1</th>\n",
       "      <th>MEAN_U2</th>\n",
       "      <th>SD_U1</th>\n",
       "      <th>SD_U2</th>\n",
       "    </tr>\n",
       "  </thead>\n",
       "  <tbody>\n",
       "    <tr>\n",
       "      <th>0</th>\n",
       "      <td>96.0</td>\n",
       "      <td>104.0</td>\n",
       "      <td>0.480</td>\n",
       "      <td>0.520</td>\n",
       "      <td>1521.141975</td>\n",
       "      <td>1512.870370</td>\n",
       "      <td>520.446317</td>\n",
       "      <td>519.955069</td>\n",
       "    </tr>\n",
       "    <tr>\n",
       "      <th>20</th>\n",
       "      <td>121.0</td>\n",
       "      <td>79.0</td>\n",
       "      <td>0.605</td>\n",
       "      <td>0.395</td>\n",
       "      <td>1593.728395</td>\n",
       "      <td>1459.968944</td>\n",
       "      <td>541.525087</td>\n",
       "      <td>494.729105</td>\n",
       "    </tr>\n",
       "    <tr>\n",
       "      <th>40</th>\n",
       "      <td>127.0</td>\n",
       "      <td>73.0</td>\n",
       "      <td>0.635</td>\n",
       "      <td>0.365</td>\n",
       "      <td>1714.386076</td>\n",
       "      <td>1393.525316</td>\n",
       "      <td>561.673536</td>\n",
       "      <td>445.849618</td>\n",
       "    </tr>\n",
       "    <tr>\n",
       "      <th>60</th>\n",
       "      <td>140.0</td>\n",
       "      <td>60.0</td>\n",
       "      <td>0.700</td>\n",
       "      <td>0.300</td>\n",
       "      <td>1833.316129</td>\n",
       "      <td>1343.597403</td>\n",
       "      <td>580.043666</td>\n",
       "      <td>421.527995</td>\n",
       "    </tr>\n",
       "    <tr>\n",
       "      <th>80</th>\n",
       "      <td>151.0</td>\n",
       "      <td>49.0</td>\n",
       "      <td>0.755</td>\n",
       "      <td>0.245</td>\n",
       "      <td>1993.738255</td>\n",
       "      <td>1327.255034</td>\n",
       "      <td>572.321722</td>\n",
       "      <td>368.801999</td>\n",
       "    </tr>\n",
       "  </tbody>\n",
       "</table>\n",
       "</div>"
      ],
      "text/plain": [
       "    COUNTS_U1  COUNTS_U2  FIRST_EPOCH_PROB_U1  FIRST_EPOCH_PROB_U2  \\\n",
       "0        96.0      104.0                0.480                0.520   \n",
       "20      121.0       79.0                0.605                0.395   \n",
       "40      127.0       73.0                0.635                0.365   \n",
       "60      140.0       60.0                0.700                0.300   \n",
       "80      151.0       49.0                0.755                0.245   \n",
       "\n",
       "        MEAN_U1      MEAN_U2       SD_U1       SD_U2  \n",
       "0   1521.141975  1512.870370  520.446317  519.955069  \n",
       "20  1593.728395  1459.968944  541.525087  494.729105  \n",
       "40  1714.386076  1393.525316  561.673536  445.849618  \n",
       "60  1833.316129  1343.597403  580.043666  421.527995  \n",
       "80  1993.738255  1327.255034  572.321722  368.801999  "
      ]
     },
     "execution_count": 45,
     "metadata": {},
     "output_type": "execute_result"
    }
   ],
   "source": [
    "#m2.index = index\n",
    "#m2.columns=col\n",
    "#m2"
   ]
  },
  {
   "cell_type": "markdown",
   "metadata": {},
   "source": [
    "## caluclate chi construct dataframe"
   ]
  },
  {
   "cell_type": "code",
   "execution_count": 30,
   "metadata": {},
   "outputs": [],
   "source": [
    "chicur = pd.DataFrame(chisq(data,m1,variance),index=index)\n",
    "#chiprop = pd.DataFrame(chisq(data,m2,variance),index=index)"
   ]
  },
  {
   "cell_type": "code",
   "execution_count": 31,
   "metadata": {},
   "outputs": [
    {
     "data": {
      "text/html": [
       "<div>\n",
       "<style>\n",
       "    .dataframe thead tr:only-child th {\n",
       "        text-align: right;\n",
       "    }\n",
       "\n",
       "    .dataframe thead th {\n",
       "        text-align: left;\n",
       "    }\n",
       "\n",
       "    .dataframe tbody tr th {\n",
       "        vertical-align: top;\n",
       "    }\n",
       "</style>\n",
       "<table border=\"1\" class=\"dataframe\">\n",
       "  <thead>\n",
       "    <tr style=\"text-align: right;\">\n",
       "      <th></th>\n",
       "      <th>FIRST_EPOCH_PROB_U1</th>\n",
       "      <th>MEAN_U1</th>\n",
       "      <th>MEAN_U2</th>\n",
       "      <th>SD_U1</th>\n",
       "      <th>SD_U2</th>\n",
       "    </tr>\n",
       "  </thead>\n",
       "  <tbody>\n",
       "    <tr>\n",
       "      <th>0</th>\n",
       "      <td>1.288245</td>\n",
       "      <td>2.563734</td>\n",
       "      <td>2.204140</td>\n",
       "      <td>2.829457</td>\n",
       "      <td>2.449578</td>\n",
       "    </tr>\n",
       "    <tr>\n",
       "      <th>20</th>\n",
       "      <td>19.197968</td>\n",
       "      <td>1.971202</td>\n",
       "      <td>2.848661</td>\n",
       "      <td>2.393909</td>\n",
       "      <td>3.405596</td>\n",
       "    </tr>\n",
       "    <tr>\n",
       "      <th>40</th>\n",
       "      <td>0.000000</td>\n",
       "      <td>2.183583</td>\n",
       "      <td>3.822320</td>\n",
       "      <td>2.149060</td>\n",
       "      <td>3.876717</td>\n",
       "    </tr>\n",
       "    <tr>\n",
       "      <th>60</th>\n",
       "      <td>1.005025</td>\n",
       "      <td>1.996802</td>\n",
       "      <td>4.456213</td>\n",
       "      <td>2.208701</td>\n",
       "      <td>4.842844</td>\n",
       "    </tr>\n",
       "    <tr>\n",
       "      <th>80</th>\n",
       "      <td>0.000000</td>\n",
       "      <td>1.146075</td>\n",
       "      <td>5.151810</td>\n",
       "      <td>0.789162</td>\n",
       "      <td>5.338450</td>\n",
       "    </tr>\n",
       "  </tbody>\n",
       "</table>\n",
       "</div>"
      ],
      "text/plain": [
       "    FIRST_EPOCH_PROB_U1   MEAN_U1   MEAN_U2     SD_U1     SD_U2\n",
       "0              1.288245  2.563734  2.204140  2.829457  2.449578\n",
       "20            19.197968  1.971202  2.848661  2.393909  3.405596\n",
       "40             0.000000  2.183583  3.822320  2.149060  3.876717\n",
       "60             1.005025  1.996802  4.456213  2.208701  4.842844\n",
       "80             0.000000  1.146075  5.151810  0.789162  5.338450"
      ]
     },
     "execution_count": 31,
     "metadata": {},
     "output_type": "execute_result"
    }
   ],
   "source": [
    "chicur"
   ]
  },
  {
   "cell_type": "code",
   "execution_count": 53,
   "metadata": {
    "scrolled": true
   },
   "outputs": [
    {
     "data": {
      "text/html": [
       "<div>\n",
       "<style>\n",
       "    .dataframe thead tr:only-child th {\n",
       "        text-align: right;\n",
       "    }\n",
       "\n",
       "    .dataframe thead th {\n",
       "        text-align: left;\n",
       "    }\n",
       "\n",
       "    .dataframe tbody tr th {\n",
       "        vertical-align: top;\n",
       "    }\n",
       "</style>\n",
       "<table border=\"1\" class=\"dataframe\">\n",
       "  <thead>\n",
       "    <tr style=\"text-align: right;\">\n",
       "      <th></th>\n",
       "      <th>FIRST_EPOCH_PROB_U1</th>\n",
       "      <th>MEAN_U1</th>\n",
       "      <th>MEAN_U2</th>\n",
       "      <th>SD_U1</th>\n",
       "      <th>SD_U2</th>\n",
       "    </tr>\n",
       "  </thead>\n",
       "  <tbody>\n",
       "    <tr>\n",
       "      <th>0</th>\n",
       "      <td>0.320513</td>\n",
       "      <td>0.600014</td>\n",
       "      <td>0.302920</td>\n",
       "      <td>6.710827</td>\n",
       "      <td>6.008385</td>\n",
       "    </tr>\n",
       "    <tr>\n",
       "      <th>20</th>\n",
       "      <td>99.612930</td>\n",
       "      <td>0.649600</td>\n",
       "      <td>0.498399</td>\n",
       "      <td>6.890047</td>\n",
       "      <td>6.629890</td>\n",
       "    </tr>\n",
       "    <tr>\n",
       "      <th>40</th>\n",
       "      <td>108.747708</td>\n",
       "      <td>1.218083</td>\n",
       "      <td>0.812515</td>\n",
       "      <td>8.250962</td>\n",
       "      <td>7.921200</td>\n",
       "    </tr>\n",
       "    <tr>\n",
       "      <th>60</th>\n",
       "      <td>85.714286</td>\n",
       "      <td>2.575929</td>\n",
       "      <td>1.098813</td>\n",
       "      <td>10.302442</td>\n",
       "      <td>8.606515</td>\n",
       "    </tr>\n",
       "    <tr>\n",
       "      <th>80</th>\n",
       "      <td>64.900662</td>\n",
       "      <td>3.552411</td>\n",
       "      <td>1.201893</td>\n",
       "      <td>12.317144</td>\n",
       "      <td>10.189803</td>\n",
       "    </tr>\n",
       "  </tbody>\n",
       "</table>\n",
       "</div>"
      ],
      "text/plain": [
       "    FIRST_EPOCH_PROB_U1   MEAN_U1   MEAN_U2      SD_U1      SD_U2\n",
       "0              0.320513  0.600014  0.302920   6.710827   6.008385\n",
       "20            99.612930  0.649600  0.498399   6.890047   6.629890\n",
       "40           108.747708  1.218083  0.812515   8.250962   7.921200\n",
       "60            85.714286  2.575929  1.098813  10.302442   8.606515\n",
       "80            64.900662  3.552411  1.201893  12.317144  10.189803"
      ]
     },
     "execution_count": 53,
     "metadata": {},
     "output_type": "execute_result"
    }
   ],
   "source": [
    "chiprop"
   ]
  },
  {
   "cell_type": "markdown",
   "metadata": {},
   "source": [
    "##  calulate likelihood ratio"
   ]
  },
  {
   "cell_type": "code",
   "execution_count": 54,
   "metadata": {},
   "outputs": [
    {
     "name": "stdout",
     "output_type": "stream",
     "text": [
      "370.087457924\n",
      "455.633890042\n"
     ]
    }
   ],
   "source": [
    "sumchicur = chisum(chicur)\n",
    "sumprop = chisum(chiprop)\n",
    "print sumchicur\n",
    "print sumprop"
   ]
  },
  {
   "cell_type": "code",
   "execution_count": 55,
   "metadata": {},
   "outputs": [
    {
     "data": {
      "text/plain": [
       "2.6535562151025129e-19"
      ]
     },
     "execution_count": 55,
     "metadata": {},
     "output_type": "execute_result"
    }
   ],
   "source": [
    "ratio = np.exp((-sumprop+sumchicur)/2)\n",
    "ratio"
   ]
  },
  {
   "cell_type": "code",
   "execution_count": null,
   "metadata": {},
   "outputs": [],
   "source": []
  }
 ],
 "metadata": {
  "kernelspec": {
   "display_name": "Python 2",
   "language": "python",
   "name": "python2"
  },
  "language_info": {
   "codemirror_mode": {
    "name": "ipython",
    "version": 2
   },
   "file_extension": ".py",
   "mimetype": "text/x-python",
   "name": "python",
   "nbconvert_exporter": "python",
   "pygments_lexer": "ipython2",
   "version": "2.7.13"
  }
 },
 "nbformat": 4,
 "nbformat_minor": 2
}
