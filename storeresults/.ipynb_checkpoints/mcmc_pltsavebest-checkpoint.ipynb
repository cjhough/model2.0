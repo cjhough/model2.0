{
 "cells": [
  {
   "cell_type": "code",
   "execution_count": 1,
   "metadata": {
    "scrolled": true
   },
   "outputs": [
    {
     "name": "stdout",
     "output_type": "stream",
     "text": [
      "CHISQpmc10.pkl SUMpmc10.pkl   THETApmc10.pkl\r\n"
     ]
    }
   ],
   "source": [
    "!ls *.pkl"
   ]
  },
  {
   "cell_type": "code",
   "execution_count": 2,
   "metadata": {
    "collapsed": true
   },
   "outputs": [],
   "source": [
    "import pandas as pd\n",
    "import numpy as np\n",
    "import matplotlib.pyplot as plt\n",
    "\n",
    "%matplotlib inline"
   ]
  },
  {
   "cell_type": "code",
   "execution_count": 3,
   "metadata": {
    "collapsed": true
   },
   "outputs": [],
   "source": [
    "pathname = str('/Users/carly/CODE/model2.0/storeresults/')\n",
    "modelpath = str('/Users/carly/CODE/PYCODE/model2.0/')\n",
    "#savepath = str('/Users/carly/Desktop/')"
   ]
  },
  {
   "cell_type": "code",
   "execution_count": 5,
   "metadata": {
    "collapsed": true
   },
   "outputs": [],
   "source": [
    "def readchi(name):\n",
    "    chiread = pd.read_pickle('CHISQ'+name+'.pkl')\n",
    "    return chiread\n",
    "def readtheta(name):\n",
    "    thetaread = pd.read_pickle('THETA'+name+'.pkl')\n",
    "    return thetaread\n",
    "def readsum(name):\n",
    "    sumread  = pd.read_pickle('SUM'+name+'.pkl')\n",
    "    return sumread"
   ]
  },
  {
   "cell_type": "code",
   "execution_count": 7,
   "metadata": {
    "collapsed": true
   },
   "outputs": [],
   "source": [
    "mc1 = str('pmc10')"
   ]
  },
  {
   "cell_type": "code",
   "execution_count": 8,
   "metadata": {},
   "outputs": [],
   "source": [
    "mc1sum = readsum(mc1)\n",
    "mc1theta = readtheta(mc1)\n",
    "mc1chi = readchi(mc1)"
   ]
  },
  {
   "cell_type": "code",
   "execution_count": 29,
   "metadata": {},
   "outputs": [
    {
     "data": {
      "image/png": "[encoded data removed]",
      "text/plain": [
       "<matplotlib.figure.Figure at 0x11600df50>"
      ]
     },
     "metadata": {},
     "output_type": "display_data"
    }
   ],
   "source": [
    "fig, axs = plt.subplots(2)\n",
    "\n",
    "mc1sum.plot.line(ax = axs[0])\n",
    "\n",
    "fig.set_size_inches(8,8)\n",
    "fig.tight_layout()\n",
    "fig.get_figure()\n",
    "\n",
    "#fig.savefig(savepath+'',dpi=100)"
   ]
  },
  {
   "cell_type": "code",
   "execution_count": 30,
   "metadata": {},
   "outputs": [
    {
     "name": "stdout",
     "output_type": "stream",
     "text": [
      "<class 'pandas.core.frame.DataFrame'>\n",
      "Int64Index: 11 entries, 0 to 10\n",
      "Data columns (total 5 columns):\n",
      "FIRST_EPOCH_PROB    11 non-null float64\n",
      "MEAN_U1             11 non-null float64\n",
      "MEAN_U2             11 non-null float64\n",
      "SD_U1               11 non-null float64\n",
      "SD_U2               11 non-null float64\n",
      "dtypes: float64(5)\n",
      "memory usage: 528.0 bytes\n"
     ]
    }
   ],
   "source": [
    "mc1sum.info()"
   ]
  },
  {
   "cell_type": "code",
   "execution_count": 31,
   "metadata": {},
   "outputs": [
    {
     "data": {
      "text/plain": [
       "9"
      ]
     },
     "execution_count": 31,
     "metadata": {},
     "output_type": "execute_result"
    }
   ],
   "source": [
    "allchi = mc1sum.sum(axis=1)\n",
    "allchi.idxmin()"
   ]
  },
  {
   "cell_type": "code",
   "execution_count": 32,
   "metadata": {
    "collapsed": true
   },
   "outputs": [],
   "source": [
    "def kc(dic):\n",
    "    s1 = dic\n",
    "    for key, value in s1.items():\n",
    "        # do something with value\n",
    "        s1[key] = value\n",
    "    return s1"
   ]
  },
  {
   "cell_type": "code",
   "execution_count": 51,
   "metadata": {
    "collapsed": true
   },
   "outputs": [],
   "source": [
    "#thetakc = pd.DataFrame.from_records(dfc3theta['KC'])"
   ]
  },
  {
   "cell_type": "code",
   "execution_count": 34,
   "metadata": {
    "collapsed": true
   },
   "outputs": [],
   "source": [
    "steps = len(mc1sum)\n",
    "x0 = np.arange(0,steps)"
   ]
  },
  {
   "cell_type": "code",
   "execution_count": 35,
   "metadata": {},
   "outputs": [
    {
     "data": {
      "text/html": [
       "<div>\n",
       "<style>\n",
       "    .dataframe thead tr:only-child th {\n",
       "        text-align: right;\n",
       "    }\n",
       "\n",
       "    .dataframe thead th {\n",
       "        text-align: left;\n",
       "    }\n",
       "\n",
       "    .dataframe tbody tr th {\n",
       "        vertical-align: top;\n",
       "    }\n",
       "</style>\n",
       "<table border=\"1\" class=\"dataframe\">\n",
       "  <thead>\n",
       "    <tr style=\"text-align: right;\">\n",
       "      <th></th>\n",
       "      <th>alpha</th>\n",
       "      <th>beta</th>\n",
       "      <th>gamma</th>\n",
       "      <th>kb</th>\n",
       "      <th>kc</th>\n",
       "      <th>ks</th>\n",
       "      <th>mu</th>\n",
       "      <th>sigma</th>\n",
       "      <th>tau_a</th>\n",
       "      <th>tau_u</th>\n",
       "    </tr>\n",
       "  </thead>\n",
       "  <tbody>\n",
       "    <tr>\n",
       "      <th>0</th>\n",
       "      <td>0.0</td>\n",
       "      <td>1.425280</td>\n",
       "      <td>2.077030</td>\n",
       "      <td>0.109369</td>\n",
       "      <td>0.002536</td>\n",
       "      <td>0.191859</td>\n",
       "      <td>0.900000</td>\n",
       "      <td>0.041982</td>\n",
       "      <td>1248.000000</td>\n",
       "      <td>10.000000</td>\n",
       "    </tr>\n",
       "    <tr>\n",
       "      <th>1</th>\n",
       "      <td>0.0</td>\n",
       "      <td>1.417300</td>\n",
       "      <td>1.940792</td>\n",
       "      <td>0.115301</td>\n",
       "      <td>0.002532</td>\n",
       "      <td>0.193961</td>\n",
       "      <td>0.901640</td>\n",
       "      <td>0.046112</td>\n",
       "      <td>1163.845602</td>\n",
       "      <td>10.858931</td>\n",
       "    </tr>\n",
       "    <tr>\n",
       "      <th>2</th>\n",
       "      <td>0.0</td>\n",
       "      <td>1.378784</td>\n",
       "      <td>1.821658</td>\n",
       "      <td>0.114171</td>\n",
       "      <td>0.002423</td>\n",
       "      <td>0.218720</td>\n",
       "      <td>0.845840</td>\n",
       "      <td>0.046918</td>\n",
       "      <td>1185.068051</td>\n",
       "      <td>9.902784</td>\n",
       "    </tr>\n",
       "    <tr>\n",
       "      <th>3</th>\n",
       "      <td>0.0</td>\n",
       "      <td>1.413915</td>\n",
       "      <td>1.843652</td>\n",
       "      <td>0.113307</td>\n",
       "      <td>0.002485</td>\n",
       "      <td>0.232024</td>\n",
       "      <td>0.875625</td>\n",
       "      <td>0.046080</td>\n",
       "      <td>1151.882185</td>\n",
       "      <td>9.483346</td>\n",
       "    </tr>\n",
       "    <tr>\n",
       "      <th>4</th>\n",
       "      <td>0.0</td>\n",
       "      <td>1.413915</td>\n",
       "      <td>1.843652</td>\n",
       "      <td>0.113307</td>\n",
       "      <td>0.002485</td>\n",
       "      <td>0.232024</td>\n",
       "      <td>0.875625</td>\n",
       "      <td>0.046080</td>\n",
       "      <td>1151.882185</td>\n",
       "      <td>9.483346</td>\n",
       "    </tr>\n",
       "    <tr>\n",
       "      <th>5</th>\n",
       "      <td>0.0</td>\n",
       "      <td>1.413915</td>\n",
       "      <td>1.843652</td>\n",
       "      <td>0.113307</td>\n",
       "      <td>0.002485</td>\n",
       "      <td>0.232024</td>\n",
       "      <td>0.875625</td>\n",
       "      <td>0.046080</td>\n",
       "      <td>1151.882185</td>\n",
       "      <td>9.483346</td>\n",
       "    </tr>\n",
       "    <tr>\n",
       "      <th>6</th>\n",
       "      <td>0.0</td>\n",
       "      <td>1.413915</td>\n",
       "      <td>1.843652</td>\n",
       "      <td>0.113307</td>\n",
       "      <td>0.002485</td>\n",
       "      <td>0.232024</td>\n",
       "      <td>0.875625</td>\n",
       "      <td>0.046080</td>\n",
       "      <td>1151.882185</td>\n",
       "      <td>9.483346</td>\n",
       "    </tr>\n",
       "    <tr>\n",
       "      <th>7</th>\n",
       "      <td>0.0</td>\n",
       "      <td>1.314836</td>\n",
       "      <td>2.085716</td>\n",
       "      <td>0.113970</td>\n",
       "      <td>0.002691</td>\n",
       "      <td>0.228961</td>\n",
       "      <td>0.915827</td>\n",
       "      <td>0.046533</td>\n",
       "      <td>1153.183269</td>\n",
       "      <td>9.775146</td>\n",
       "    </tr>\n",
       "    <tr>\n",
       "      <th>8</th>\n",
       "      <td>0.0</td>\n",
       "      <td>1.314836</td>\n",
       "      <td>2.085716</td>\n",
       "      <td>0.113970</td>\n",
       "      <td>0.002691</td>\n",
       "      <td>0.228961</td>\n",
       "      <td>0.915827</td>\n",
       "      <td>0.046533</td>\n",
       "      <td>1153.183269</td>\n",
       "      <td>9.775146</td>\n",
       "    </tr>\n",
       "    <tr>\n",
       "      <th>9</th>\n",
       "      <td>0.0</td>\n",
       "      <td>1.361625</td>\n",
       "      <td>2.044118</td>\n",
       "      <td>0.116356</td>\n",
       "      <td>0.002563</td>\n",
       "      <td>0.232233</td>\n",
       "      <td>0.987767</td>\n",
       "      <td>0.046757</td>\n",
       "      <td>1208.711996</td>\n",
       "      <td>8.590873</td>\n",
       "    </tr>\n",
       "    <tr>\n",
       "      <th>10</th>\n",
       "      <td>0.0</td>\n",
       "      <td>1.361625</td>\n",
       "      <td>2.044118</td>\n",
       "      <td>0.116356</td>\n",
       "      <td>0.002563</td>\n",
       "      <td>0.232233</td>\n",
       "      <td>0.987767</td>\n",
       "      <td>0.046757</td>\n",
       "      <td>1208.711996</td>\n",
       "      <td>8.590873</td>\n",
       "    </tr>\n",
       "  </tbody>\n",
       "</table>\n",
       "</div>"
      ],
      "text/plain": [
       "    alpha      beta     gamma        kb        kc        ks        mu  \\\n",
       "0     0.0  1.425280  2.077030  0.109369  0.002536  0.191859  0.900000   \n",
       "1     0.0  1.417300  1.940792  0.115301  0.002532  0.193961  0.901640   \n",
       "2     0.0  1.378784  1.821658  0.114171  0.002423  0.218720  0.845840   \n",
       "3     0.0  1.413915  1.843652  0.113307  0.002485  0.232024  0.875625   \n",
       "4     0.0  1.413915  1.843652  0.113307  0.002485  0.232024  0.875625   \n",
       "5     0.0  1.413915  1.843652  0.113307  0.002485  0.232024  0.875625   \n",
       "6     0.0  1.413915  1.843652  0.113307  0.002485  0.232024  0.875625   \n",
       "7     0.0  1.314836  2.085716  0.113970  0.002691  0.228961  0.915827   \n",
       "8     0.0  1.314836  2.085716  0.113970  0.002691  0.228961  0.915827   \n",
       "9     0.0  1.361625  2.044118  0.116356  0.002563  0.232233  0.987767   \n",
       "10    0.0  1.361625  2.044118  0.116356  0.002563  0.232233  0.987767   \n",
       "\n",
       "       sigma        tau_a      tau_u  \n",
       "0   0.041982  1248.000000  10.000000  \n",
       "1   0.046112  1163.845602  10.858931  \n",
       "2   0.046918  1185.068051   9.902784  \n",
       "3   0.046080  1151.882185   9.483346  \n",
       "4   0.046080  1151.882185   9.483346  \n",
       "5   0.046080  1151.882185   9.483346  \n",
       "6   0.046080  1151.882185   9.483346  \n",
       "7   0.046533  1153.183269   9.775146  \n",
       "8   0.046533  1153.183269   9.775146  \n",
       "9   0.046757  1208.711996   8.590873  \n",
       "10  0.046757  1208.711996   8.590873  "
      ]
     },
     "execution_count": 35,
     "metadata": {},
     "output_type": "execute_result"
    }
   ],
   "source": [
    "theta = mc1theta\n",
    "theta"
   ]
  },
  {
   "cell_type": "code",
   "execution_count": 53,
   "metadata": {},
   "outputs": [
    {
     "data": {
      "image/png": "[encoded data removed]",
      "text/plain": [
       "<matplotlib.figure.Figure at 0x119819a90>"
      ]
     },
     "metadata": {},
     "output_type": "display_data"
    }
   ],
   "source": [
    "theta = mc1theta\n",
    "fig,ax = plt.subplots(4,3)\n",
    "\n",
    "ax[0,0].plot(x0,theta['beta'],color='blue',label='BETA')\n",
    "ax[0,1].plot(x0,theta['gamma'],color='green',label='GAMMA')\n",
    "ax[0,2].plot(x0,theta['sigma'],color='purple',label='SIGMA')\n",
    "ax[1,0].plot(x0,theta['alpha'],color='yellow',label='ALPHA')\n",
    "ax[1,1].plot(x0,theta['mu'],color='black',label='MU')\n",
    "ax[1,2].plot(x0,theta['kb'],color='pink',label='BASELINE INPUT (KB)')\n",
    "ax[2,0].plot(x0,theta['tau_a'],color='orange',label='TAU_A')\n",
    "ax[2,1].plot(x0,theta['tau_u'],color='brown',label='TAU_U')\n",
    "ax[3,0].plot(x0,theta['KS'],color='red',label='not from contrast')\n",
    "ax[3,1].plot(x0,theta['KS'],color='red',label='contrast')\n",
    "\n",
    "\n",
    "ax[0,0].set_title('BETA')\n",
    "ax[0,1].set_title('GAMMA')\n",
    "ax[0,2].set_title('SIGMA (noise)')\n",
    "ax[1,0].set_title('ALPHA')\n",
    "ax[1,1].set_title('MU')\n",
    "ax[1,2].set_title('BASELINE INPUT (KB)')\n",
    "ax[2,0].set_title('TAU_A')\n",
    "ax[2,1].set_title('TAU_U')\n",
    "ax[3,0].set_title('Not Contrast Stimulus')\n",
    "ax[3,1].set_title('Contrast Stimulus')\n",
    "\n",
    "fig.tight_layout()\n",
    "fig.get_figure()\n",
    "fig.set_size_inches(10,10)\n",
    "#fig.savefig(savepath+'', dpi=100)"
   ]
  },
  {
   "cell_type": "code",
   "execution_count": 54,
   "metadata": {
    "collapsed": true
   },
   "outputs": [],
   "source": [
    "chicol = ['CHI: First Epoch Probability',\n",
    "          'CHI: U1 Mean Dominance Time',\n",
    "          'CHI: U2 Mean Dominance Time',\n",
    "          'CHI: U1 std for CV=0.6',\n",
    "          'CHI: U2 std for CV=0.6'\n",
    "         ]"
   ]
  },
  {
   "cell_type": "code",
   "execution_count": 55,
   "metadata": {
    "collapsed": true
   },
   "outputs": [],
   "source": [
    "best = allchi.idxmin()"
   ]
  },
  {
   "cell_type": "code",
   "execution_count": 56,
   "metadata": {},
   "outputs": [
    {
     "data": {
      "text/html": [
       "<div>\n",
       "<style>\n",
       "    .dataframe thead tr:only-child th {\n",
       "        text-align: right;\n",
       "    }\n",
       "\n",
       "    .dataframe thead th {\n",
       "        text-align: left;\n",
       "    }\n",
       "\n",
       "    .dataframe tbody tr th {\n",
       "        vertical-align: top;\n",
       "    }\n",
       "</style>\n",
       "<table border=\"1\" class=\"dataframe\">\n",
       "  <thead>\n",
       "    <tr style=\"text-align: right;\">\n",
       "      <th></th>\n",
       "      <th>CHI: First Epoch Probability</th>\n",
       "      <th>CHI: U1 Mean Dominance Time</th>\n",
       "      <th>CHI: U2 Mean Dominance Time</th>\n",
       "      <th>CHI: U1 std for CV=0.6</th>\n",
       "      <th>CHI: U2 std for CV=0.6</th>\n",
       "    </tr>\n",
       "  </thead>\n",
       "  <tbody>\n",
       "    <tr>\n",
       "      <th>0</th>\n",
       "      <td>0.085132</td>\n",
       "      <td>1.864257</td>\n",
       "      <td>1.226782</td>\n",
       "      <td>0.855419</td>\n",
       "      <td>0.640555</td>\n",
       "    </tr>\n",
       "    <tr>\n",
       "      <th>20</th>\n",
       "      <td>2.101918</td>\n",
       "      <td>1.757567</td>\n",
       "      <td>0.007370</td>\n",
       "      <td>6.058198</td>\n",
       "      <td>6.712259</td>\n",
       "    </tr>\n",
       "    <tr>\n",
       "      <th>40</th>\n",
       "      <td>1.487210</td>\n",
       "      <td>1.414709</td>\n",
       "      <td>0.094290</td>\n",
       "      <td>7.923589</td>\n",
       "      <td>7.419990</td>\n",
       "    </tr>\n",
       "    <tr>\n",
       "      <th>60</th>\n",
       "      <td>0.059488</td>\n",
       "      <td>8.056902</td>\n",
       "      <td>0.005776</td>\n",
       "      <td>8.901539</td>\n",
       "      <td>7.799604</td>\n",
       "    </tr>\n",
       "    <tr>\n",
       "      <th>80</th>\n",
       "      <td>0.059488</td>\n",
       "      <td>0.184773</td>\n",
       "      <td>3.145287</td>\n",
       "      <td>17.478651</td>\n",
       "      <td>9.648210</td>\n",
       "    </tr>\n",
       "  </tbody>\n",
       "</table>\n",
       "</div>"
      ],
      "text/plain": [
       "    CHI: First Epoch Probability  CHI: U1 Mean Dominance Time  \\\n",
       "0                       0.085132                     1.864257   \n",
       "20                      2.101918                     1.757567   \n",
       "40                      1.487210                     1.414709   \n",
       "60                      0.059488                     8.056902   \n",
       "80                      0.059488                     0.184773   \n",
       "\n",
       "    CHI: U2 Mean Dominance Time  CHI: U1 std for CV=0.6  \\\n",
       "0                      1.226782                0.855419   \n",
       "20                     0.007370                6.058198   \n",
       "40                     0.094290                7.923589   \n",
       "60                     0.005776                8.901539   \n",
       "80                     3.145287               17.478651   \n",
       "\n",
       "    CHI: U2 std for CV=0.6  \n",
       "0                 0.640555  \n",
       "20                6.712259  \n",
       "40                7.419990  \n",
       "60                7.799604  \n",
       "80                9.648210  "
      ]
     },
     "execution_count": 56,
     "metadata": {},
     "output_type": "execute_result"
    }
   ],
   "source": [
    "dfbest = pd.DataFrame(dfc3chi[best])\n",
    "chiallsave = dfbest.T\n",
    "chiallsave.columns = chicol\n",
    "#chiallsave.index.name = 1\n",
    "chiallsave"
   ]
  },
  {
   "cell_type": "code",
   "execution_count": 58,
   "metadata": {},
   "outputs": [
    {
     "data": {
      "text/plain": [
       "KS                                                 3.44484\n",
       "beta                                                1.7649\n",
       "gamma                                              3.24068\n",
       "sigma                                          0.000892491\n",
       "tau_a                                              5.13176\n",
       "tau_u                                           0.00701248\n",
       "KC       {1: 0.0, 2: 0.235, 3: 0.4534, 4: 0.6643, 5: 0....\n",
       "Name: 447, dtype: object"
      ]
     },
     "execution_count": 58,
     "metadata": {},
     "output_type": "execute_result"
    }
   ],
   "source": [
    "thetasave = dfc3theta.iloc[best]\n",
    "thetasave"
   ]
  },
  {
   "cell_type": "code",
   "execution_count": 59,
   "metadata": {
    "collapsed": true
   },
   "outputs": [],
   "source": [
    "#thetasave.to_pickle(pathname+'c3.pkl')\n",
    "#thetasave.to_pickle(modelpath+'c3.pkl')"
   ]
  },
  {
   "cell_type": "code",
   "execution_count": 60,
   "metadata": {},
   "outputs": [
    {
     "data": {
      "text/plain": [
       "FIRST_EPOCH_PROB     3.793236\n",
       "MEAN_U1             13.278207\n",
       "MEAN_U2              4.479507\n",
       "SD_U1               41.217397\n",
       "SD_U2               32.220618\n",
       "CHI SUM             94.988965\n",
       "dtype: float64"
      ]
     },
     "execution_count": 60,
     "metadata": {},
     "output_type": "execute_result"
    }
   ],
   "source": [
    "colsum = dfbest.sum(axis=1)\n",
    "colsum['CHI SUM'] = colsum.sum()\n",
    "colsum"
   ]
  },
  {
   "cell_type": "code",
   "execution_count": 9,
   "metadata": {
    "collapsed": true
   },
   "outputs": [],
   "source": [
    "x = np.linspace(0, 2 * np.pi, 400)\n",
    "z = np.linspace(0, 4 * np.pi, 400)\n",
    "y = np.sin(x ** 2)"
   ]
  },
  {
   "cell_type": "code",
   "execution_count": 39,
   "metadata": {},
   "outputs": [
    {
     "data": {
      "image/png": "[encoded data removed]",
      "text/plain": [
       "<matplotlib.figure.Figure at 0x118327790>"
      ]
     },
     "metadata": {},
     "output_type": "display_data"
    }
   ],
   "source": [
    "fig, ax = plt.subplots(4,2)\n",
    "#figsize=(10,14)\n",
    "\n",
    "ax[0,0].plot(z,y)\n",
    "ax[0,1].plot(x,y)\n",
    "\n",
    "fig.get_figure()\n",
    "fig.tight_layout()\n",
    "fig.set_size_inches(8,8)"
   ]
  },
  {
   "cell_type": "code",
   "execution_count": null,
   "metadata": {
    "collapsed": true
   },
   "outputs": [],
   "source": []
  }
 ],
 "metadata": {
  "kernelspec": {
   "display_name": "Python 2",
   "language": "python",
   "name": "python2"
  },
  "language_info": {
   "codemirror_mode": {
    "name": "ipython",
    "version": 2
   },
   "file_extension": ".py",
   "mimetype": "text/x-python",
   "name": "python",
   "nbconvert_exporter": "python",
   "pygments_lexer": "ipython2",
   "version": "2.7.13"
  }
 },
 "nbformat": 4,
 "nbformat_minor": 2
}
